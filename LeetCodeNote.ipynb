{
 "cells": [
  {
   "cell_type": "code",
   "execution_count": 1,
   "id": "e4b3dc5c-27bd-42ce-afc5-29d9a54d5c5f",
   "metadata": {},
   "outputs": [],
   "source": [
    "from typing import Optional, List"
   ]
  },
  {
   "cell_type": "markdown",
   "id": "180f4767-2256-47d9-a945-9d4aa6485045",
   "metadata": {},
   "source": [
    "# 53 最大子数组和\n",
    "给你一个整数数组 nums ，请你找出一个具有最大和的连续子数组（子数组最少包含一个元素），返回其最大和。  \n",
    "子数组是数组中的一个连续部分。"
   ]
  },
  {
   "cell_type": "code",
   "execution_count": null,
   "id": "1818d8a0-6b2b-4178-b567-8548caa9c71d",
   "metadata": {},
   "outputs": [],
   "source": [
    "class Solution:\n",
    "    def maxSubArray(self, nums: List[int]) -> int:\n",
    "        # 维护一个变量current_sum表示当前的连续子数组最大和\n",
    "        # 如果当前的num 比current_sum+num更大，说明重新开始一段新的子数组更划算\n",
    "        # 同时记录下目前为止最大和max_sum\n",
    "        current_sum = max_sum = nums[0]\n",
    "\n",
    "        for num in nums[1:]:\n",
    "            current_sum = max(num, current_sum+num)\n",
    "            max_sum = max(max_sum, current_sum)\n",
    "        return max_sum"
   ]
  },
  {
   "cell_type": "markdown",
   "id": "7c0b0030-2ca3-4e89-9b32-1f25707c50aa",
   "metadata": {},
   "source": [
    "# 1 两数之和\n",
    "给定一个整数数组 nums 和一个整数目标值 target，请你在该数组中找出 和为目标值 target  的那 两个 整数，并返回它们的数组下标。你可以假设每种输入只会对应一个答案，并且你不能使用两次相同的元素。你可以按任意顺序返回答案。"
   ]
  },
  {
   "cell_type": "code",
   "execution_count": null,
   "id": "cccb057a-dd93-4ca9-8e3f-2947d4339535",
   "metadata": {},
   "outputs": [],
   "source": [
    "class Solution:\n",
    "    def twoSum(self, nums: List[int], target: int) -> List[int]:\n",
    "        hashdict={}\n",
    "        for i, num in enumerate(nums):\n",
    "            complement = target-num\n",
    "            if complement in hashdict:\n",
    "                return [hashdict[complement], i]\n",
    "            else:\n",
    "                hashdict[num]=i"
   ]
  },
  {
   "cell_type": "markdown",
   "id": "fff74925-0c19-40a5-ab3a-3c667dacaf70",
   "metadata": {},
   "source": [
    "# 49 字母同分异构词分组\n",
    "给你一个字符串数组，请你将 字母异位词 组合在一起。可以按任意顺序返回结果列表。字母异位词 是由重新排列源单词的所有字母得到的一个新单词。"
   ]
  },
  {
   "cell_type": "code",
   "execution_count": 2,
   "id": "b6aca26c-00eb-4400-9123-1ade8938eda3",
   "metadata": {},
   "outputs": [],
   "source": [
    "class Solution:\n",
    "    def groupAnagrams(self, strs):\n",
    "        anagrams_dict=defaultdict(list) # 创建空字典\n",
    "        for word in strs:\n",
    "            sorted_word = ''.join(sorted(word)) # 每个word排序后(一个个字母)组成新的单词\n",
    "            anagrams_dict[sorted_word].append(word) # 排序好的单词作为key，对应每一个字母异位词\n",
    "        return list(anagrams_dict.values()) # 返回值即可"
   ]
  },
  {
   "cell_type": "markdown",
   "id": "fae0ebb7-3c2d-4260-844f-8f714e8dcd5f",
   "metadata": {},
   "source": [
    "# 128 最长连续序列\n",
    "给定一个未排序的整数数组 nums ，找出数字连续的最长序列（不要求序列元素在原数组中连续）的长度。请你设计并实现时间复杂度为 O(n) 的算法解决此问题。"
   ]
  },
  {
   "cell_type": "code",
   "execution_count": null,
   "id": "04dcf849-f079-43b8-b53a-7f66d6969516",
   "metadata": {},
   "outputs": [],
   "source": [
    "class Solution:\n",
    "    def longestConsecutive(self, nums: List[int]) -> int:\n",
    "        # 比如只有当 num - 1 不在 set 中时，才启动从 num 开始的连续序列查找\n",
    "        num_set = set(nums)\n",
    "        longest = 0\n",
    "        for num in num_set:\n",
    "            if num-1 not in num_set: # 只从序列的起点开始\n",
    "                current_num = num\n",
    "                current_stack = 1\n",
    "                while current_num+1 in num_set:\n",
    "                    current_num += 1\n",
    "                    current_stack += 1\n",
    "                \n",
    "                longest = max(longest, current_stack)\n",
    "        return longest"
   ]
  },
  {
   "cell_type": "markdown",
   "id": "3e01dda3-e4c7-4c8a-b055-bac983522890",
   "metadata": {},
   "source": [
    "# 56 合并区间\n",
    "以数组 intervals 表示若干个区间的集合，其中单个区间为 intervals[i] = [starti, endi] 。请你合并所有重叠的区间，并返回 一个不重叠的区间数组，该数组需恰好覆盖输入中的所有区间。"
   ]
  },
  {
   "cell_type": "code",
   "execution_count": null,
   "id": "fd65be89-f557-4fbc-bcd5-aae78c685ce1",
   "metadata": {},
   "outputs": [],
   "source": [
    "class Solution:\n",
    "    def merge(self, intervals: List[List[int]]) -> List[List[int]]:\n",
    "        # 先按照区间起始位置排序\n",
    "        # 遍历每个区间，如果当前区间与结果中的最后一个区间不重叠，直接加入结果\n",
    "        # 如果有重叠，合并两个区间\n",
    "        if not intervals:\n",
    "            return []\n",
    "        \n",
    "        # 第一步，按照每个区间的start值排序\n",
    "        intervals.sort(key=lambda x: x[0])\n",
    "        \n",
    "        # 初始化结果为第一个区间\n",
    "        merged = [intervals[0]]\n",
    "\n",
    "        for current in intervals[1:]:\n",
    "            last = merged[-1]\n",
    "\n",
    "            if current[0] <= last[1]: # 有重叠，合并\n",
    "                last[1] = max(last[1], current[1])\n",
    "            else: # 没有重叠，直接加\n",
    "                merged.append(current)\n",
    "        return merged"
   ]
  },
  {
   "cell_type": "markdown",
   "id": "850b1e66-35d5-4afb-83fb-ffbee03cfa60",
   "metadata": {},
   "source": [
    "# 94 二叉树的中序遍历\n",
    "给定一个二叉树的根节点，返回他的中序遍历"
   ]
  },
  {
   "cell_type": "code",
   "execution_count": 16,
   "id": "046f99ad-bcfb-4803-8ae2-303e320afbe2",
   "metadata": {},
   "outputs": [],
   "source": [
    "# Definition for a binary tree node.\n",
    "class TreeNode:\n",
    "    def __init__(self, val=0, left=None, right=None):\n",
    "        self.val = val\n",
    "        self.left = left\n",
    "        self.right = right\n",
    "class Solution:\n",
    "    def inorderTraversal(self, root: Optional[TreeNode]) -> List[int]:\n",
    "        result=[]\n",
    "        def dfs(node):\n",
    "            # 递归边界\n",
    "            if not node:\n",
    "                return \n",
    "            # 对于任何一个节点\n",
    "            # 先访问左子树，然后访问根节点，再访问右子树\n",
    "            dfs(node.left)\n",
    "            result.append(node.val)\n",
    "            dfs(node.right)\n",
    "        dfs(root)\n",
    "        return result"
   ]
  },
  {
   "cell_type": "markdown",
   "id": "ed6a266c-68df-49d2-8fd6-f9bc14d46b09",
   "metadata": {},
   "source": [
    "# 144 二叉树的前序遍历\n",
    "给定一个二叉树的根节点，返回他的前序遍历"
   ]
  },
  {
   "cell_type": "code",
   "execution_count": 17,
   "id": "35fc6858-146e-472c-b090-0f9e618f1041",
   "metadata": {},
   "outputs": [],
   "source": [
    "# Definition for a binary tree node.\n",
    "class TreeNode:\n",
    "    def __init__(self, val=0, left=None, right=None):\n",
    "        self.val = val\n",
    "        self.left = left\n",
    "        self.right = right\n",
    "        \n",
    "class Solution:\n",
    "    def preorderTraversal(self, root: Optional[TreeNode]) -> List[int]:\n",
    "        result=[]\n",
    "        def dfs(node):\n",
    "            if not node:\n",
    "                return\n",
    "            result.append(node.val)\n",
    "            dfs(node.left)\n",
    "            dfs(node.right)\n",
    "        dfs(root)\n",
    "        return result"
   ]
  },
  {
   "cell_type": "markdown",
   "id": "546d075f-a3e8-4e33-8811-f6e2fe1c902a",
   "metadata": {},
   "source": [
    "# 104 二叉树的最大深度\n",
    "给定一个二叉树 root ，返回其最大深度。  \n",
    "二叉树的 最大深度 是指从根节点到最远叶子节点的最长路径上的节点数。"
   ]
  },
  {
   "cell_type": "code",
   "execution_count": null,
   "id": "533154cb-a568-4bcc-96a3-d0ff74d6fdde",
   "metadata": {},
   "outputs": [],
   "source": [
    "# Definition for a binary tree node.\n",
    "class TreeNode:\n",
    "    def __init__(self, val=0, left=None, right=None):\n",
    "        self.val = val\n",
    "        self.left = left\n",
    "        self.right = right\n",
    "        \n",
    "class Solution:\n",
    "    def maxDepth(self, root: Optional[TreeNode]) -> int:\n",
    "        \"\"\"\n",
    "        计算二叉树的最大深度\n",
    "        任意二叉树的最大深度=max(左子树的最大深度，右子树的最大深度)+1\n",
    "        采用类似后续遍历的思想，先左后右\n",
    "        \"\"\"\n",
    "        if not root:\n",
    "            return 0\n",
    "        left = self.maxDepth(root.left)\n",
    "        right = self.maxDepth(root.right)\n",
    "        return max(left, right) + 1"
   ]
  },
  {
   "cell_type": "markdown",
   "id": "17d5958d-526b-4511-aa8e-056925989cdb",
   "metadata": {},
   "source": [
    "# 226 翻转二叉树\n",
    "给你一棵二叉树的根节点 root ，翻转这棵二叉树，并返回其根节点\n"
   ]
  },
  {
   "cell_type": "code",
   "execution_count": 4,
   "id": "d84c948c-1adc-44f1-9d77-f0f1c972e31b",
   "metadata": {},
   "outputs": [],
   "source": [
    "# Definition for a binary tree node.\n",
    "class TreeNode:\n",
    "    def __init__(self, val=0, left=None, right=None):\n",
    "        self.val = val\n",
    "        self.left = left\n",
    "        self.right = right\n",
    "        \n",
    "class Solution:\n",
    "    def invertTree(self, root: Optional[TreeNode]) -> Optional[TreeNode]:\n",
    "        \"\"\"\n",
    "        翻转二叉树\n",
    "        左子树=翻转的右子树\n",
    "        右子树=翻转的左子树\n",
    "        \"\"\"\n",
    "        if not root:\n",
    "            return \n",
    "        root.left, root.right = self.invertTree(root.right), self.invertTree(root.left)\n",
    "        return root"
   ]
  },
  {
   "cell_type": "markdown",
   "id": "feb0ec50-219a-4f92-b605-cbb049ba0880",
   "metadata": {},
   "source": [
    "# 101 对称二叉树\n",
    "给你一个二叉树的根节点 root ， 检查它是否轴对称"
   ]
  },
  {
   "cell_type": "code",
   "execution_count": 5,
   "id": "e712f487-03e2-4720-839f-6634e87851d7",
   "metadata": {},
   "outputs": [],
   "source": [
    "# Definition for a binary tree node.\n",
    "class TreeNode:\n",
    "    def __init__(self, val=0, left=None, right=None):\n",
    "        self.val = val\n",
    "        self.left = left\n",
    "        self.right = right\n",
    "class Solution:\n",
    "    def isSymmetric(self, root: Optional[TreeNode]) -> bool:\n",
    "        \"\"\"\n",
    "        判断二叉树是否为对称二叉树\n",
    "        \"\"\"\n",
    "        if not root:\n",
    "            return True\n",
    "        # 迭代判断左右子树是否为对称二叉树\n",
    "        def recur(L, R):\n",
    "            # 左右都为空\n",
    "            if not L and not R:\n",
    "                return True\n",
    "            # 左右只有一个为空，或者左右值不相等\n",
    "            if not L or not R or L.val != R.val:\n",
    "                return False\n",
    "            # 想象有三层的二叉树\n",
    "            # 要比较对称位置是否同时相等\n",
    "            # 即比较L.left与R.right, L.right与R.left\n",
    "            return recur(L.left, R.right) and recur(L.right, R.left)\n",
    "        \n",
    "        return recur(root.left, root.right)\n",
    "        "
   ]
  },
  {
   "cell_type": "markdown",
   "id": "d345c847-1d15-4ecb-afdc-0f4bab5f91ec",
   "metadata": {},
   "source": [
    "# 54 二叉树的直径\n",
    "给你一棵二叉树的根节点，返回该树的直径。\n",
    "二叉树的直径是指树中任意两个节点之间最长路径的长度 。这条路径可能经过也可能不经过根节点 root。\n",
    "两节点之间路径的 长度 由它们之间边数表示。"
   ]
  },
  {
   "cell_type": "code",
   "execution_count": 3,
   "id": "7c4ff19d-a205-4bca-840c-48b7f98bfceb",
   "metadata": {},
   "outputs": [],
   "source": [
    "# Definition for a binary tree node.\n",
    "class TreeNode:\n",
    "    def __init__(self, val=0, left=None, right=None):\n",
    "        self.val = val\n",
    "        self.left = left\n",
    "        self.right = right\n",
    "class Solution:\n",
    "    def diameterOfBinaryTree(self, root: Optional[TreeNode]) -> int:\n",
    "        \"\"\"\n",
    "        求二叉树的直径：任意两个节点的最长路径（边数）\n",
    "        实际上思路是求二叉树的深度\n",
    "        因为任何一条路径都可以看做以某个节点为起点，由其左子树和右子树的某个路径拼接得到\n",
    "        假设左子树深度为L，右子树深度为R，则该节点对应的最大路径长度为L+R\n",
    "        每个节点都对应一条最长的路径，即为dnode=L+R\n",
    "        然后我们的目标是找出所有节点中最大的dnode\n",
    "        其中，L和R就可以用前面学过的二叉树最大深度算法\n",
    "        \"\"\"\n",
    "        # 注意，一开始默认边数为0\n",
    "        self.ans = 0\n",
    "\n",
    "        def dnode(node):\n",
    "            if not node:\n",
    "                return 0\n",
    "            L = dnode(node.left)\n",
    "            R = dnode(node.right)\n",
    "            # 去掉这一行，就是二叉树深度的写法\n",
    "            self.ans = max(self.ans, L + R)\n",
    "            return max(L, R) + 1\n",
    "\n",
    "        dnode(root)\n",
    "        return self.ans    "
   ]
  },
  {
   "cell_type": "markdown",
   "id": "e6562138-5ef0-4188-b618-7a23b24b5583",
   "metadata": {},
   "source": [
    "# 102 二叉树的层序遍历\n",
    "给你二叉树的根节点 root ，返回其节点值的层序遍历 （即逐层地，从左到右访问所有节点）"
   ]
  },
  {
   "cell_type": "markdown",
   "id": "01c623c8-be49-467e-a494-94441338ca6b",
   "metadata": {},
   "source": [
    "这道题需要用到队列(queue)，这是一种先进先出的数据结构，在python中用collections中的deque库，注意这个deque库是双向队列  \n",
    "**解题步骤如下：**\n",
    "- 创建一个队列 queue，初始时只放 root 节点\n",
    "- 进入循环，每次处理一层的所有节点\n",
    "- 用一个临时列表 level 来保存这一层的所有节点值\n",
    "- 把当前节点的左右孩子加入到队列中\n",
    "- 最后返回所有层结果 res"
   ]
  },
  {
   "cell_type": "code",
   "execution_count": 4,
   "id": "ba8d7cf1-6e68-4873-822c-92ad46357d89",
   "metadata": {},
   "outputs": [],
   "source": [
    "# Definition for a binary tree node.\n",
    "class TreeNode:\n",
    "    def __init__(self, val=0, left=None, right=None):\n",
    "        self.val = val\n",
    "        self.left = left\n",
    "        self.right = right\n",
    "        \n",
    "from collections import deque\n",
    "\n",
    "\n",
    "class Solution:\n",
    "    def levelOrder(self, root: Optional[TreeNode]) -> List[List[int]]:\n",
    "        \"\"\"\n",
    "        二叉树的层序遍历，思路如下：\n",
    "        创建一个队列 queue，初始时只放 root 节点\n",
    "        进入循环，每次处理一层的所有节点\n",
    "        用一个临时列表 level 来保存这一层的所有节点值\n",
    "        把当前节点的左右孩子加入到队列中\n",
    "        最后返回所有层结果 res\n",
    "        \"\"\"\n",
    "        if not root:\n",
    "            return []\n",
    "\n",
    "        res = []  # 存放最终结果\n",
    "        queue = deque([root])  # 初始化队列\n",
    "\n",
    "        while queue:\n",
    "            tmp = []  # 存放当前层的节点值\n",
    "            for _ in range(len(queue)):  # 当前层有多少个节点，就处理多少次\n",
    "                node = queue.popleft()\n",
    "                tmp.append(node.val)\n",
    "\n",
    "                # 把下一层的节点加入队列\n",
    "                if node.left:\n",
    "                    queue.append(node.left)\n",
    "                if node.right:\n",
    "                    queue.append(node.right)\n",
    "\n",
    "            res.append(tmp)  # 当前层处理完，加入结果中\n",
    "        return res\n"
   ]
  }
 ],
 "metadata": {
  "kernelspec": {
   "display_name": "Python 3 (ipykernel)",
   "language": "python",
   "name": "python3"
  },
  "language_info": {
   "codemirror_mode": {
    "name": "ipython",
    "version": 3
   },
   "file_extension": ".py",
   "mimetype": "text/x-python",
   "name": "python",
   "nbconvert_exporter": "python",
   "pygments_lexer": "ipython3",
   "version": "3.13.4"
  }
 },
 "nbformat": 4,
 "nbformat_minor": 5
}
