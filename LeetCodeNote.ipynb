{
 "cells": [
  {
   "cell_type": "code",
   "execution_count": 20,
   "id": "e4b3dc5c-27bd-42ce-afc5-29d9a54d5c5f",
   "metadata": {},
   "outputs": [],
   "source": [
    "from typing import Optional, List"
   ]
  },
  {
   "cell_type": "markdown",
   "id": "180f4767-2256-47d9-a945-9d4aa6485045",
   "metadata": {},
   "source": [
    "# 53 最大子数组和\n",
    "给你一个整数数组 nums ，请你找出一个具有最大和的连续子数组（子数组最少包含一个元素），返回其最大和。  \n",
    "子数组是数组中的一个连续部分。"
   ]
  },
  {
   "cell_type": "code",
   "execution_count": null,
   "id": "1818d8a0-6b2b-4178-b567-8548caa9c71d",
   "metadata": {},
   "outputs": [],
   "source": [
    "class Solution:\n",
    "    def maxSubArray(self, nums: List[int]) -> int:\n",
    "        # 维护一个变量current_sum表示当前的连续子数组最大和\n",
    "        # 如果当前的num 比current_sum+num更大，说明重新开始一段新的子数组更划算\n",
    "        # 同时记录下目前为止最大和max_sum\n",
    "        current_sum = max_sum = nums[0]\n",
    "\n",
    "        for num in nums[1:]:\n",
    "            current_sum = max(num, current_sum+num)\n",
    "            max_sum = max(max_sum, current_sum)\n",
    "        return max_sum"
   ]
  },
  {
   "cell_type": "markdown",
   "id": "7c0b0030-2ca3-4e89-9b32-1f25707c50aa",
   "metadata": {},
   "source": [
    "# 1 两数之和\n",
    "给定一个整数数组 nums 和一个整数目标值 target，请你在该数组中找出 和为目标值 target  的那 两个 整数，并返回它们的数组下标。你可以假设每种输入只会对应一个答案，并且你不能使用两次相同的元素。你可以按任意顺序返回答案。"
   ]
  },
  {
   "cell_type": "code",
   "execution_count": null,
   "id": "cccb057a-dd93-4ca9-8e3f-2947d4339535",
   "metadata": {},
   "outputs": [],
   "source": [
    "class Solution:\n",
    "    def twoSum(self, nums: List[int], target: int) -> List[int]:\n",
    "        hashdict={}\n",
    "        for i, num in enumerate(nums):\n",
    "            complement = target-num\n",
    "            if complement in hashdict:\n",
    "                return [hashdict[complement], i]\n",
    "            else:\n",
    "                hashdict[num]=i"
   ]
  },
  {
   "cell_type": "markdown",
   "id": "fff74925-0c19-40a5-ab3a-3c667dacaf70",
   "metadata": {},
   "source": [
    "# 49 字母同分异构词分组\n",
    "给你一个字符串数组，请你将 字母异位词 组合在一起。可以按任意顺序返回结果列表。字母异位词 是由重新排列源单词的所有字母得到的一个新单词。"
   ]
  },
  {
   "cell_type": "code",
   "execution_count": 2,
   "id": "b6aca26c-00eb-4400-9123-1ade8938eda3",
   "metadata": {},
   "outputs": [],
   "source": [
    "class Solution:\n",
    "    def groupAnagrams(self, strs):\n",
    "        anagrams_dict=defaultdict(list) # 创建空字典\n",
    "        for word in strs:\n",
    "            sorted_word = ''.join(sorted(word)) # 每个word排序后(一个个字母)组成新的单词\n",
    "            anagrams_dict[sorted_word].append(word) # 排序好的单词作为key，对应每一个字母异位词\n",
    "        return list(anagrams_dict.values()) # 返回值即可"
   ]
  },
  {
   "cell_type": "markdown",
   "id": "fae0ebb7-3c2d-4260-844f-8f714e8dcd5f",
   "metadata": {},
   "source": [
    "# 128 最长连续序列\n",
    "给定一个未排序的整数数组 nums ，找出数字连续的最长序列（不要求序列元素在原数组中连续）的长度。请你设计并实现时间复杂度为 O(n) 的算法解决此问题。"
   ]
  },
  {
   "cell_type": "code",
   "execution_count": null,
   "id": "04dcf849-f079-43b8-b53a-7f66d6969516",
   "metadata": {},
   "outputs": [],
   "source": [
    "class Solution:\n",
    "    def longestConsecutive(self, nums: List[int]) -> int:\n",
    "        # 比如只有当 num - 1 不在 set 中时，才启动从 num 开始的连续序列查找\n",
    "        num_set = set(nums)\n",
    "        longest = 0\n",
    "        for num in num_set:\n",
    "            if num-1 not in num_set: # 只从序列的起点开始\n",
    "                current_num = num\n",
    "                current_stack = 1\n",
    "                while current_num+1 in num_set:\n",
    "                    current_num += 1\n",
    "                    current_stack += 1\n",
    "                \n",
    "                longest = max(longest, current_stack)\n",
    "        return longest"
   ]
  },
  {
   "cell_type": "markdown",
   "id": "3e01dda3-e4c7-4c8a-b055-bac983522890",
   "metadata": {},
   "source": [
    "# 56 合并区间\n",
    "以数组 intervals 表示若干个区间的集合，其中单个区间为 intervals[i] = [starti, endi] 。请你合并所有重叠的区间，并返回 一个不重叠的区间数组，该数组需恰好覆盖输入中的所有区间。"
   ]
  },
  {
   "cell_type": "code",
   "execution_count": null,
   "id": "fd65be89-f557-4fbc-bcd5-aae78c685ce1",
   "metadata": {},
   "outputs": [],
   "source": [
    "class Solution:\n",
    "    def merge(self, intervals: List[List[int]]) -> List[List[int]]:\n",
    "        # 先按照区间起始位置排序\n",
    "        # 遍历每个区间，如果当前区间与结果中的最后一个区间不重叠，直接加入结果\n",
    "        # 如果有重叠，合并两个区间\n",
    "        if not intervals:\n",
    "            return []\n",
    "        \n",
    "        # 第一步，按照每个区间的start值排序\n",
    "        intervals.sort(key=lambda x: x[0])\n",
    "        \n",
    "        # 初始化结果为第一个区间\n",
    "        merged = [intervals[0]]\n",
    "\n",
    "        for current in intervals[1:]:\n",
    "            last = merged[-1]\n",
    "\n",
    "            if current[0] <= last[1]: # 有重叠，合并\n",
    "                last[1] = max(last[1], current[1])\n",
    "            else: # 没有重叠，直接加\n",
    "                merged.append(current)\n",
    "        return merged"
   ]
  },
  {
   "cell_type": "markdown",
   "id": "850b1e66-35d5-4afb-83fb-ffbee03cfa60",
   "metadata": {},
   "source": [
    "# 94 二叉树的中序遍历\n",
    "给定一个二叉树的根节点，返回他的中序遍历"
   ]
  },
  {
   "cell_type": "code",
   "execution_count": 16,
   "id": "046f99ad-bcfb-4803-8ae2-303e320afbe2",
   "metadata": {},
   "outputs": [],
   "source": [
    "# Definition for a binary tree node.\n",
    "class TreeNode:\n",
    "    def __init__(self, val=0, left=None, right=None):\n",
    "        self.val = val\n",
    "        self.left = left\n",
    "        self.right = right\n",
    "class Solution:\n",
    "    def inorderTraversal(self, root: Optional[TreeNode]) -> List[int]:\n",
    "        result=[]\n",
    "        def dfs(node):\n",
    "            # 递归边界\n",
    "            if not node:\n",
    "                return \n",
    "            # 对于任何一个节点\n",
    "            # 先访问左子树，然后访问根节点，再访问右子树\n",
    "            dfs(node.left)\n",
    "            result.append(node.val)\n",
    "            dfs(node.right)\n",
    "        dfs(root)\n",
    "        return result"
   ]
  },
  {
   "cell_type": "markdown",
   "id": "ed6a266c-68df-49d2-8fd6-f9bc14d46b09",
   "metadata": {},
   "source": [
    "# 144 二叉树的前序遍历\n",
    "给定一个二叉树的根节点，返回他的前序遍历"
   ]
  },
  {
   "cell_type": "code",
   "execution_count": 17,
   "id": "35fc6858-146e-472c-b090-0f9e618f1041",
   "metadata": {},
   "outputs": [],
   "source": [
    "# Definition for a binary tree node.\n",
    "class TreeNode:\n",
    "    def __init__(self, val=0, left=None, right=None):\n",
    "        self.val = val\n",
    "        self.left = left\n",
    "        self.right = right\n",
    "        \n",
    "class Solution:\n",
    "    def preorderTraversal(self, root: Optional[TreeNode]) -> List[int]:\n",
    "        result=[]\n",
    "        def dfs(node):\n",
    "            if not node:\n",
    "                return\n",
    "            result.append(node.val)\n",
    "            dfs(node.left)\n",
    "            dfs(node.right)\n",
    "        dfs(root)\n",
    "        return result"
   ]
  },
  {
   "cell_type": "markdown",
   "id": "546d075f-a3e8-4e33-8811-f6e2fe1c902a",
   "metadata": {},
   "source": [
    "# 104 二叉树的最大深度\n",
    "给定一个二叉树 root ，返回其最大深度。  \n",
    "二叉树的 最大深度 是指从根节点到最远叶子节点的最长路径上的节点数。"
   ]
  },
  {
   "cell_type": "code",
   "execution_count": null,
   "id": "533154cb-a568-4bcc-96a3-d0ff74d6fdde",
   "metadata": {},
   "outputs": [],
   "source": [
    "# Definition for a binary tree node.\n",
    "class TreeNode:\n",
    "    def __init__(self, val=0, left=None, right=None):\n",
    "        self.val = val\n",
    "        self.left = left\n",
    "        self.right = right\n",
    "        \n",
    "class Solution:\n",
    "    def maxDepth(self, root: Optional[TreeNode]) -> int:\n",
    "        \"\"\"\n",
    "        计算二叉树的最大深度\n",
    "        任意二叉树的最大深度=max(左子树的最大深度，右子树的最大深度)+1\n",
    "        采用类似后续遍历的思想，先左后右\n",
    "        \"\"\"\n",
    "        if not root:\n",
    "            return 0\n",
    "        left = self.maxDepth(root.left)\n",
    "        right = self.maxDepth(root.right)\n",
    "        return max(left, right) + 1"
   ]
  },
  {
   "cell_type": "markdown",
   "id": "17d5958d-526b-4511-aa8e-056925989cdb",
   "metadata": {},
   "source": [
    "# 226 翻转二叉树\n",
    "给你一棵二叉树的根节点 root ，翻转这棵二叉树，并返回其根节点\n"
   ]
  },
  {
   "cell_type": "code",
   "execution_count": 4,
   "id": "d84c948c-1adc-44f1-9d77-f0f1c972e31b",
   "metadata": {},
   "outputs": [],
   "source": [
    "# Definition for a binary tree node.\n",
    "class TreeNode:\n",
    "    def __init__(self, val=0, left=None, right=None):\n",
    "        self.val = val\n",
    "        self.left = left\n",
    "        self.right = right\n",
    "        \n",
    "class Solution:\n",
    "    def invertTree(self, root: Optional[TreeNode]) -> Optional[TreeNode]:\n",
    "        \"\"\"\n",
    "        翻转二叉树\n",
    "        左子树=翻转的右子树\n",
    "        右子树=翻转的左子树\n",
    "        \"\"\"\n",
    "        if not root:\n",
    "            return \n",
    "        root.left, root.right = self.invertTree(root.right), self.invertTree(root.left)\n",
    "        return root"
   ]
  },
  {
   "cell_type": "markdown",
   "id": "feb0ec50-219a-4f92-b605-cbb049ba0880",
   "metadata": {},
   "source": [
    "# 101 对称二叉树\n",
    "给你一个二叉树的根节点 root ， 检查它是否轴对称"
   ]
  },
  {
   "cell_type": "code",
   "execution_count": 5,
   "id": "e712f487-03e2-4720-839f-6634e87851d7",
   "metadata": {},
   "outputs": [],
   "source": [
    "# Definition for a binary tree node.\n",
    "class TreeNode:\n",
    "    def __init__(self, val=0, left=None, right=None):\n",
    "        self.val = val\n",
    "        self.left = left\n",
    "        self.right = right\n",
    "class Solution:\n",
    "    def isSymmetric(self, root: Optional[TreeNode]) -> bool:\n",
    "        \"\"\"\n",
    "        判断二叉树是否为对称二叉树\n",
    "        \"\"\"\n",
    "        if not root:\n",
    "            return True\n",
    "        # 迭代判断左右子树是否为对称二叉树\n",
    "        def recur(L, R):\n",
    "            # 左右都为空\n",
    "            if not L and not R:\n",
    "                return True\n",
    "            # 左右只有一个为空，或者左右值不相等\n",
    "            if not L or not R or L.val != R.val:\n",
    "                return False\n",
    "            # 想象有三层的二叉树\n",
    "            # 要比较对称位置是否同时相等\n",
    "            # 即比较L.left与R.right, L.right与R.left\n",
    "            return recur(L.left, R.right) and recur(L.right, R.left)\n",
    "        \n",
    "        return recur(root.left, root.right)\n",
    "        "
   ]
  },
  {
   "cell_type": "markdown",
   "id": "d345c847-1d15-4ecb-afdc-0f4bab5f91ec",
   "metadata": {},
   "source": [
    "# 54 二叉树的直径\n",
    "给你一棵二叉树的根节点，返回该树的直径。\n",
    "二叉树的直径是指树中任意两个节点之间最长路径的长度 。这条路径可能经过也可能不经过根节点 root。\n",
    "两节点之间路径的 长度 由它们之间边数表示。"
   ]
  },
  {
   "cell_type": "code",
   "execution_count": 3,
   "id": "7c4ff19d-a205-4bca-840c-48b7f98bfceb",
   "metadata": {},
   "outputs": [],
   "source": [
    "# Definition for a binary tree node.\n",
    "class TreeNode:\n",
    "    def __init__(self, val=0, left=None, right=None):\n",
    "        self.val = val\n",
    "        self.left = left\n",
    "        self.right = right\n",
    "class Solution:\n",
    "    def diameterOfBinaryTree(self, root: Optional[TreeNode]) -> int:\n",
    "        \"\"\"\n",
    "        求二叉树的直径：任意两个节点的最长路径（边数）\n",
    "        实际上思路是求二叉树的深度\n",
    "        因为任何一条路径都可以看做以某个节点为起点，由其左子树和右子树的某个路径拼接得到\n",
    "        假设左子树深度为L，右子树深度为R，则该节点对应的最大路径长度为L+R\n",
    "        每个节点都对应一条最长的路径，即为dnode=L+R\n",
    "        然后我们的目标是找出所有节点中最大的dnode\n",
    "        其中，L和R就可以用前面学过的二叉树最大深度算法\n",
    "        \"\"\"\n",
    "        # 注意，一开始默认边数为0\n",
    "        self.ans = 0\n",
    "\n",
    "        def dnode(node):\n",
    "            if not node:\n",
    "                return 0\n",
    "            L = dnode(node.left)\n",
    "            R = dnode(node.right)\n",
    "            # 去掉这一行，就是二叉树深度的写法\n",
    "            self.ans = max(self.ans, L + R)\n",
    "            return max(L, R) + 1\n",
    "\n",
    "        dnode(root)\n",
    "        return self.ans    "
   ]
  },
  {
   "cell_type": "markdown",
   "id": "e6562138-5ef0-4188-b618-7a23b24b5583",
   "metadata": {},
   "source": [
    "# 102 二叉树的层序遍历\n",
    "给你二叉树的根节点 root ，返回其节点值的层序遍历 （即逐层地，从左到右访问所有节点）"
   ]
  },
  {
   "cell_type": "markdown",
   "id": "01c623c8-be49-467e-a494-94441338ca6b",
   "metadata": {},
   "source": [
    "这道题需要用到队列(queue)，这是一种先进先出的数据结构，在python中用collections中的deque库，注意这个deque库是双向队列  \n",
    "**解题步骤如下：**\n",
    "- 创建一个队列 queue，初始时只放 root 节点\n",
    "- 进入循环，每次处理一层的所有节点\n",
    "- 用一个临时列表 level 来保存这一层的所有节点值\n",
    "- 把当前节点的左右孩子加入到队列中\n",
    "- 最后返回所有层结果 res"
   ]
  },
  {
   "cell_type": "code",
   "execution_count": 4,
   "id": "ba8d7cf1-6e68-4873-822c-92ad46357d89",
   "metadata": {},
   "outputs": [],
   "source": [
    "# Definition for a binary tree node.\n",
    "class TreeNode:\n",
    "    def __init__(self, val=0, left=None, right=None):\n",
    "        self.val = val\n",
    "        self.left = left\n",
    "        self.right = right\n",
    "        \n",
    "from collections import deque\n",
    "\n",
    "\n",
    "class Solution:\n",
    "    def levelOrder(self, root: Optional[TreeNode]) -> List[List[int]]:\n",
    "        \"\"\"\n",
    "        二叉树的层序遍历，思路如下：\n",
    "        创建一个队列 queue，初始时只放 root 节点\n",
    "        进入循环，每次处理一层的所有节点\n",
    "        用一个临时列表 level 来保存这一层的所有节点值\n",
    "        把当前节点的左右孩子加入到队列中\n",
    "        最后返回所有层结果 res\n",
    "        \"\"\"\n",
    "        if not root:\n",
    "            return []\n",
    "\n",
    "        res = []  # 存放最终结果\n",
    "        queue = deque([root])  # 初始化队列\n",
    "\n",
    "        while queue:\n",
    "            tmp = []  # 存放当前层的节点值\n",
    "            for _ in range(len(queue)):  # 当前层有多少个节点，就处理多少次\n",
    "                node = queue.popleft()\n",
    "                tmp.append(node.val)\n",
    "\n",
    "                # 把下一层的节点加入队列\n",
    "                if node.left:\n",
    "                    queue.append(node.left)\n",
    "                if node.right:\n",
    "                    queue.append(node.right)\n",
    "\n",
    "            res.append(tmp)  # 当前层处理完，加入结果中\n",
    "        return res\n"
   ]
  },
  {
   "cell_type": "markdown",
   "id": "0d8bf3b8",
   "metadata": {},
   "source": [
    "# 73 矩阵置零\n",
    "给定一个 m x n 的矩阵，如果一个元素为 0 ，则将其所在行和列的所有元素都设为 0 。请使用 原地 算法"
   ]
  },
  {
   "cell_type": "markdown",
   "id": "2eebc521",
   "metadata": {},
   "source": [
    "思路（原地做法）\n",
    "先扫描第一行和第一列，看看它们是否有 0，单独记录下来（因为第一行和第一列会被我们当作标记区域，会被覆盖）。  \n",
    "用第一行和第一列来标记：  \n",
    "遍历整个矩阵，如果 matrix[i][j] == 0，就在 matrix[i][0] 和 matrix[0][j] 置 0，表示第 i 行和第 j 列需要变成 0。  \n",
    "根据标记置 0：  \n",
    "跳过第一行和第一列，从第二行第二列开始，如果 matrix[i][0] == 0 或 matrix[0][j] == 0，就把 matrix[i][j] 置 0。  \n",
    "最后处理第一行和第一列：  \n",
    "如果第一行一开始有 0，就把整行变成 0；第一列同理。  "
   ]
  },
  {
   "cell_type": "code",
   "execution_count": 21,
   "id": "fd48bba0",
   "metadata": {},
   "outputs": [],
   "source": [
    "class Solution:\n",
    "    def setZeroes(self, matrix: List[List[int]]) -> None:\n",
    "        \"\"\"\n",
    "        Do not return anything, modify matrix in-place instead.\n",
    "        \"\"\"\n",
    "        m,n = len(matrix), len(matrix[0])\n",
    "        first_row_zero = any(matrix[0][i]==0 for i in range(n))\n",
    "        first_cow_zero = any(matrix[i][0]==0 for i in range(m))\n",
    "\n",
    "         # 1. 用第一行和第一列做标记\n",
    "        for i in range(1, m):\n",
    "            for j in range(1, n):\n",
    "                if matrix[i][j] == 0:\n",
    "                    matrix[0][j] = 0\n",
    "                    matrix[i][0] = 0\n",
    "        \n",
    "        # 2. 根据标记置 0\n",
    "        for i in range(1,m):\n",
    "            for j in range(1,n):\n",
    "                if matrix[i][0] == 0 or matrix[0][j] == 0:\n",
    "                    matrix[i][j] = 0\n",
    "\n",
    "        # 3. 处理第一行\n",
    "        if first_row_zero:\n",
    "            for j in range(n):\n",
    "                matrix[0][j] = 0\n",
    "        \n",
    "        # 4. 处理第一列\n",
    "        if first_cow_zero:\n",
    "            for i in range(m):\n",
    "                matrix[i][0] = 0\n",
    "\n"
   ]
  },
  {
   "cell_type": "markdown",
   "id": "6a64d4fc",
   "metadata": {},
   "source": [
    "# 54 螺旋矩阵\n",
    "给你一个 m 行 n 列的矩阵 matrix ，请按照 顺时针螺旋顺序 ，返回矩阵中的所有元素。"
   ]
  },
  {
   "cell_type": "markdown",
   "id": "2d848daf",
   "metadata": {},
   "source": [
    "顺时针打印矩阵的顺序是 “从左向右、从上向下、从右向左、从下向上” 循环。  \n",
    "因此，考虑设定矩阵的 “左、上、右、下” 四个边界，模拟以上矩阵遍历顺序。"
   ]
  },
  {
   "cell_type": "code",
   "execution_count": null,
   "id": "555da1d9",
   "metadata": {},
   "outputs": [],
   "source": [
    "class Solution:\n",
    "    def spiralOrder(self, matrix: List[List[int]]) -> List[int]:\n",
    "        # 处理空矩阵\n",
    "        if not matrix:\n",
    "            return []\n",
    "        # 从左往右，从上往下，从右往左，从下往上，循环\n",
    "        l, t, r, b = 0, 0, len(matrix[0]) - 1, len(matrix) - 1\n",
    "        res = []\n",
    "        while True:\n",
    "            # 从左到右\n",
    "            for i in range(l, r + 1):\n",
    "                res.append(matrix[t][i])\n",
    "            t += 1\n",
    "            if t > b:\n",
    "                break\n",
    "            # 从上到下\n",
    "            for i in range(t, b + 1):\n",
    "                res.append(matrix[i][r])\n",
    "            r -= 1\n",
    "            if r < l:\n",
    "                break\n",
    "            # 从右往左\n",
    "            for i in range(r, l - 1, -1):\n",
    "                res.append(matrix[b][i])\n",
    "            b -= 1\n",
    "            if t > b:\n",
    "                break\n",
    "            # 从下往上\n",
    "            for i in range(b, t - 1, -1):\n",
    "                res.append(matrix[i][l])\n",
    "            l += 1\n",
    "            if l > r:\n",
    "                break\n",
    "        return res\n"
   ]
  },
  {
   "cell_type": "markdown",
   "id": "985e1813",
   "metadata": {},
   "source": [
    "# 48 旋转矩阵\n",
    "给定一个 n × n 的二维矩阵 matrix 表示一个图像。请你将图像顺时针旋转 90 度。"
   ]
  },
  {
   "cell_type": "markdown",
   "id": "1fc0ecd3",
   "metadata": {},
   "source": [
    "矩阵顺时针旋转 90º 后，可找到以下规律：  \n",
    "「第 i 行」元素旋转到「第 n−1−i 列」元素；  \n",
    "「第 j 列」元素旋转到「第 j 行」元素；  \n",
    "因此，对于矩阵任意第 i 行、第 j 列元素 matrix[i][j] ，矩阵旋转 90º 后「元素位置旋转公式」为：  \n",
    "matrix[i][j]→matrix[j][n−1−i]  \n",
    "原索引位置→旋转后索引位置  \n"
   ]
  },
  {
   "cell_type": "code",
   "execution_count": 22,
   "id": "b0cd0959",
   "metadata": {},
   "outputs": [],
   "source": [
    "class Solution:\n",
    "    def rotate(self, matrix: List[List[int]]) -> None:\n",
    "        \"\"\"\n",
    "        Do not return anything, modify matrix in-place instead.\n",
    "        观察得到公式：\n",
    "        matrix[i][j] --> matrix[j][n-1-i]\n",
    "        \"\"\"\n",
    "        n = len(matrix)\n",
    "        tmp = copy.deepcopy(matrix)\n",
    "        for i in range(n):\n",
    "            for j in range(n):\n",
    "                matrix[j][n-1-i] = tmp[i][j]"
   ]
  },
  {
   "cell_type": "markdown",
   "id": "9ee8fc05",
   "metadata": {},
   "source": [
    "# 240 搜索二维矩阵\n",
    "编写一个高效的算法来搜索 m x n 矩阵 matrix 中的一个目标值 target 。该矩阵具有以下特性：\n",
    "每行的元素从左到右升序排列。\n",
    "每列的元素从上到下升序排列。"
   ]
  },
  {
   "cell_type": "markdown",
   "id": "35afa375",
   "metadata": {},
   "source": [
    "<img src=\"img\\Screenshot 2025-08-10 224715.png\" width =500>"
   ]
  },
  {
   "cell_type": "code",
   "execution_count": null,
   "id": "64e12298",
   "metadata": {},
   "outputs": [],
   "source": [
    "class Solution:\n",
    "    def searchMatrix(self, matrix: List[List[int]], target: int) -> bool:\n",
    "        i, j = len(matrix) - 1, 0\n",
    "        while i >= 0 and j < len(matrix[0]):\n",
    "            if matrix[i][j] > target: i -= 1\n",
    "            elif matrix[i][j] < target: j += 1\n",
    "            else: return True\n",
    "        return False"
   ]
  },
  {
   "cell_type": "markdown",
   "id": "beac71fb",
   "metadata": {},
   "source": [
    "# 35 搜索插入位置\n",
    "给定一个排序数组和一个目标值，在数组中找到目标值，并返回其索引。如果目标值不存在于数组中，返回它将会被按顺序插入的位置。"
   ]
  },
  {
   "cell_type": "code",
   "execution_count": null,
   "id": "938afa0a",
   "metadata": {},
   "outputs": [],
   "source": [
    "class Solution:\n",
    "    def searchInsert(self, nums: List[int], target: int) -> int:\n",
    "        # 采用左闭右开的区间\n",
    "        left, right = 0, len(nums)\n",
    "        while left < right:\n",
    "            mid = left + (right - left)//2\n",
    "            if nums[mid] < target:\n",
    "                left = mid + 1\n",
    "            else:\n",
    "                right = mid\n",
    "        return left\n",
    "        "
   ]
  },
  {
   "cell_type": "markdown",
   "id": "2d78917f",
   "metadata": {},
   "source": [
    "# 37 搜索二维矩阵\n",
    "给你一个满足下述两条属性的 m x n 整数矩阵：\n",
    "每行中的整数从左到右按非严格递增顺序排列。\n",
    "每行的第一个整数大于前一行的最后一个整数。\n",
    "给你一个整数 target ，如果 target 在矩阵中，返回 true ；否则，返回 false 。"
   ]
  },
  {
   "cell_type": "code",
   "execution_count": null,
   "id": "e92211a5",
   "metadata": {},
   "outputs": [],
   "source": [
    "class Solution:\n",
    "    def searchMatrix(self, matrix: List[List[int]], target: int) -> bool:\n",
    "        # 直接按顺序逐个元素比较\n",
    "        # m, n = len(matrix), len(matrix[0])\n",
    "        # for i in range(m):\n",
    "        #     for j in range(n):\n",
    "        #         if matrix[i][j] == target:\n",
    "        #             return True\n",
    "        # return False\n",
    "        m, n = len(matrix), len(matrix[0])\n",
    "        left, right = 0, m*n\n",
    "        while left < right:\n",
    "            mid = left + (right-left)//2\n",
    "            x = matrix[mid//n][mid%n]\n",
    "            if target < x:\n",
    "                right = mid\n",
    "            if target > x:\n",
    "                left = mid + 1\n",
    "            if x == target:\n",
    "                return True\n",
    "        return False\n",
    "        "
   ]
  },
  {
   "cell_type": "markdown",
   "id": "a549940e",
   "metadata": {},
   "source": [
    "# 34 在排序数组中找元素的第一个位置和最后一个位置\n",
    "给你一个按照非递减顺序排列的整数数组 nums，和一个目标值 target。请你找出给定目标值在数组中的开始位置和结束位置。\n",
    "如果数组中不存在目标值 target，返回 [-1, -1]。\n",
    "你必须设计并实现时间复杂度为 O(log n) 的算法解决此问题。"
   ]
  },
  {
   "cell_type": "code",
   "execution_count": null,
   "id": "db575c00",
   "metadata": {},
   "outputs": [],
   "source": [
    "class Solution:\n",
    "    def searchRange(self, nums: List[int], target: int) -> List[int]:\n",
    "        # 先写一个普通的二分法查找，用左闭右开法\n",
    "        # 然后找target的第一个位置就用二分法找\n",
    "        # 找target的最后一个最后一个位置，就用二分法找target+1的位置再-1\n",
    "        def searchTarget(nums, target):\n",
    "            left, right = 0, len(nums)\n",
    "            while left < right:\n",
    "                mid = left + (right-left)//2\n",
    "                if target > nums[mid]:\n",
    "                    left = mid + 1\n",
    "                else:\n",
    "                    right = mid\n",
    "            return left\n",
    "\n",
    "        start = searchTarget(nums, target)\n",
    "        if start == len(nums) or nums[start]!= target:\n",
    "            return [-1, -1]\n",
    "        else:\n",
    "            end = searchTarget(nums, target+1) - 1\n",
    "        return [start, end]"
   ]
  },
  {
   "cell_type": "markdown",
   "id": "680d1875",
   "metadata": {},
   "source": [
    "# 33 搜索旋转排序数组\n",
    "整数数组 nums 按升序排列，数组中的值 互不相同 。\n",
    "\n",
    "在传递给函数之前，nums 在预先未知的某个下标 k（0 <= k < nums.length）上进行了 旋转，使数组变为 [nums[k], nums[k+1], ..., nums[n-1], nums[0], nums[1], ..., nums[k-1]]（下标 从 0 开始 计数）。例如， [0,1,2,4,5,6,7] 向左旋转 3 次后可能变为 [4,5,6,7,0,1,2] 。\n",
    "\n",
    "给你 旋转后 的数组 nums 和一个整数 target ，如果 nums 中存在这个目标值 target ，则返回它的下标，否则返回 -1 。"
   ]
  },
  {
   "cell_type": "code",
   "execution_count": null,
   "id": "7e5d7a4c",
   "metadata": {},
   "outputs": [],
   "source": [
    "class Solution:\n",
    "    def search(self, nums: List[int], target: int) -> int:\n",
    "        # 二分法查找边界，左闭右开\n",
    "        left, right = 0, len(nums)\n",
    "        while left < right:\n",
    "            mid = left + (right - left)//2\n",
    "            # 找到目标值，返回索引\n",
    "            if target == nums[mid]:\n",
    "                return mid\n",
    "            # 只在有序的区间进行二分查找\n",
    "            # 左区间有序\n",
    "            if nums[left] < nums[mid]: \n",
    "                # 如果目标就在左区间，就更新右边界\n",
    "                # 如果目标在右区间，就更新左边界\n",
    "                if nums[left] <= target and target < nums[mid]:\n",
    "                    right = mid\n",
    "                else:\n",
    "                    left = mid + 1\n",
    "            # 右区间有序\n",
    "            else:\n",
    "                # 如果目标在右区间，就更新左边界\n",
    "                # 如果目标在右区间，就更新左边界\n",
    "                if nums[mid] < target and target <= nums[right-1]:\n",
    "                    left = mid +1\n",
    "                else:\n",
    "                    right = mid\n",
    "        return -1 \n",
    "        "
   ]
  },
  {
   "cell_type": "markdown",
   "id": "61986823",
   "metadata": {},
   "source": [
    "# 153 寻找旋转排序数组中的最小值\n",
    "已知一个长度为 n 的数组，预先按照升序排列，经由 1 到 n 次 旋转 后，得到输入数组。例如，原数组 nums = [0,1,2,4,5,6,7] 在变化后可能得到：\n",
    "若旋转 4 次，则可以得到 [4,5,6,7,0,1,2]\n",
    "若旋转 7 次，则可以得到 [0,1,2,4,5,6,7]\n",
    "注意，数组 [a[0], a[1], a[2], ..., a[n-1]] 旋转一次 的结果为数组 [a[n-1], a[0], a[1], a[2], ..., a[n-2]] 。\n",
    "\n",
    "给你一个元素值 互不相同 的数组 nums ，它原来是一个升序排列的数组，并按上述情形进行了多次旋转。请你找出并返回数组中的 最小元素 。\n",
    "\n",
    "你必须设计一个时间复杂度为 O(log n) 的算法解决此问题。"
   ]
  },
  {
   "cell_type": "code",
   "execution_count": null,
   "id": "421de155",
   "metadata": {},
   "outputs": [],
   "source": [
    "class Solution:\n",
    "    def findMin(self, nums: List[int]) -> int:\n",
    "        # 只在有序区间内寻找最小值\n",
    "        left, right = 0, len(nums)\n",
    "        res = nums[0]\n",
    "        while left < right:\n",
    "            mid = left + (right - left)//2\n",
    "            # 左区间有序\n",
    "            if nums[left] <= nums[mid]:\n",
    "                res = min(res, nums[left])\n",
    "                left = mid + 1\n",
    "            # 右区间有序\n",
    "            else:\n",
    "                res = min(res, nums[mid])\n",
    "                right = mid\n",
    "        return res\n"
   ]
  },
  {
   "cell_type": "markdown",
   "id": "69a58630",
   "metadata": {},
   "source": [
    "# 20 有效的括号\n",
    "给定一个只包括 '('，')'，'{'，'}'，'['，']' 的字符串 s ，判断字符串是否有效。\n",
    "有效字符串需满足：\n",
    "左括号必须用相同类型的右括号闭合。\n",
    "左括号必须以正确的顺序闭合。\n",
    "每个右括号都有一个对应的相同类型的左括号。"
   ]
  },
  {
   "cell_type": "code",
   "execution_count": null,
   "id": "288d8448",
   "metadata": {},
   "outputs": [
    {
     "data": {
      "text/plain": [
       "False"
      ]
     },
     "execution_count": 13,
     "metadata": {},
     "output_type": "execute_result"
    }
   ],
   "source": [
    "class Solution:\n",
    "    def isValid(self, s: str) -> bool:\n",
    "        # 采用栈和字典思想\n",
    "        # 如果当前是右括号且栈不为空：\n",
    "        # a) 栈顶是匹配的左括号, 左括号就出栈\n",
    "        # b) 栈顶是不匹配的左括号，返回错误\n",
    "        # 如果当前是左括号: 进栈\n",
    "        \n",
    "        dic = {')':'(', '}':'{', ']':'['}\n",
    "        stack = []\n",
    "        for i in s:\n",
    "            if stack and i in dic: # i in dic 自动查找“键”\n",
    "                if stack[-1] == dic[i]:\n",
    "                    stack.pop()\n",
    "                else:\n",
    "                    return False\n",
    "            else:\n",
    "                stack.append(i)\n",
    "        return not stack"
   ]
  },
  {
   "cell_type": "markdown",
   "id": "527c8c22",
   "metadata": {},
   "source": [
    "# 155 最小栈\n",
    "设计一个支持 push ，pop ，top 操作，并能在常数时间内检索到最小元素的栈。\n",
    "实现 MinStack 类:\n",
    "MinStack() 初始化堆栈对象。\n",
    "void push(int val) 将元素val推入堆栈。\n",
    "void pop() 删除堆栈顶部的元素。\n",
    "int top() 获取堆栈顶部的元素。\n",
    "int getMin() 获取堆栈中的最小元素。"
   ]
  },
  {
   "cell_type": "code",
   "execution_count": null,
   "id": "65d9cd2a",
   "metadata": {},
   "outputs": [],
   "source": [
    "class MinStack:\n",
    "    # 构造辅助栈，存放stack中的最小值\n",
    "    # push: 每当push新值，如果小于等于min_stack栈顶，就一起push到min_stack,更新栈顶最小值\n",
    "    # pop: 判断pop出去的元素是否也是min_stack栈顶，是就一起pop出去，保证min_stack栈顶始终是stack中最小值\n",
    "    # getMin：返回min_stack栈顶值\n",
    "\n",
    "    # 辅助栈min_stack: 等价于遍历stack中所有元素，把升序元素删除掉，留下一个从栈底到栈顶降序的栈\n",
    "    def __init__(self):\n",
    "        self.stack=[]\n",
    "        self.min_stack = []\n",
    "\n",
    "    def push(self, val: int) -> None:\n",
    "        self.stack.append(val)\n",
    "        if not self.min_stack or val <= self.min_stack[-1]:\n",
    "            self.min_stack.append(val)\n",
    "\n",
    "    def pop(self) -> None:\n",
    "        if self.stack.pop() == self.min_stack[-1]:\n",
    "            self.min_stack.pop()\n",
    "\n",
    "    def top(self) -> int:\n",
    "        return self.stack[-1]\n",
    "\n",
    "    def getMin(self) -> int:\n",
    "        return self.min_stack[-1]\n",
    "        \n",
    "\n",
    "# Your MinStack object will be instantiated and called as such:\n",
    "# obj = MinStack()\n",
    "# obj.push(val)\n",
    "# obj.pop()\n",
    "# param_3 = obj.top()\n",
    "# param_4 = obj.getMin()"
   ]
  },
  {
   "cell_type": "markdown",
   "id": "bf852294",
   "metadata": {},
   "source": [
    "# 70 爬楼梯\n",
    "假设你正在爬楼梯。需要 n 阶你才能到达楼顶。\n",
    "\n",
    "每次你可以爬 1 或 2 个台阶。你有多少种不同的方法可以爬到楼顶呢？"
   ]
  },
  {
   "cell_type": "code",
   "execution_count": null,
   "id": "2fb5c08a",
   "metadata": {},
   "outputs": [
    {
     "name": "stdout",
     "output_type": "stream",
     "text": [
      "1\n",
      "2\n",
      "3\n",
      "4\n",
      "5\n"
     ]
    }
   ],
   "source": [
    "class Solution:\n",
    "    def climbStairs(self, n: int) -> int:\n",
    "        # f(n) = f(n-1)+f(n-2) # 只能跳1步或者2步\n",
    "        # f(1)=1, f(2)=2, f(3)=f(1)+f(2), f(4)=f(2)+f(3) ...\n",
    "        if n <=2:\n",
    "            return n\n",
    "        dp1 = 1\n",
    "        dp2 = 2\n",
    "        dpn = 0\n",
    "        for i in range(3,n+1):\n",
    "            dpn = dp1+dp2\n",
    "            dp1 = dp2\n",
    "            dp2 = dpn\n",
    "        return dpn\n",
    "            "
   ]
  },
  {
   "cell_type": "markdown",
   "id": "44812287",
   "metadata": {},
   "source": [
    "# 118 杨辉三角\n",
    "给定一个非负整数 numRows，生成「杨辉三角」的前 numRows 行"
   ]
  },
  {
   "cell_type": "code",
   "execution_count": null,
   "id": "40d2cdd1",
   "metadata": {},
   "outputs": [],
   "source": [
    "class Solution:\n",
    "    def generate(self, numRows: int) -> List[List[int]]:\n",
    "        # y[n][1] = y[n][m] = 1\n",
    "        # y[n][m] = y[n-1][m-1] + y[n-1][m]\n",
    "\n",
    "        List = [[1] * (i + 1) for i in range(numRows)]\n",
    "        # 创建全为1的杨辉三角列表\n",
    "        # 列表可以和整数相乘，表示重复这个列表的内容\n",
    "        for i in range(numRows):\n",
    "            List[i][0] = 1\n",
    "            List[i][i] = 1\n",
    "            for j in range(1,i):\n",
    "                List[i][j] = List[i-1][j-1] + List[i-1][j]\n",
    "        return List\n",
    "        "
   ]
  },
  {
   "cell_type": "markdown",
   "id": "439c491a",
   "metadata": {},
   "source": [
    "# 198 打家劫舍\n",
    "你是一个专业的小偷，计划偷窃沿街的房屋。每间房内都藏有一定的现金，影响你偷窃的唯一制约因素就是相邻的房屋装有相互连通的防盗系统，如果两间相邻的房屋在同一晚上被小偷闯入，系统会自动报警。给定一个代表每个房屋存放金额的非负整数数组，计算你 不触动警报装置的情况下 ，一夜之内能够偷窃到的最高金额。"
   ]
  },
  {
   "cell_type": "code",
   "execution_count": null,
   "id": "00d3cd6c",
   "metadata": {},
   "outputs": [],
   "source": [
    "class Solution:\n",
    "    def rob(self, nums: List[int]) -> int:\n",
    "        # 子问题 f(k) = 偷前k个房间能获得的最大金额\n",
    "        # 假设有k个房间，那么能偷到的最大金额为：\n",
    "        # 要么不偷第k间房，就是前(k-1)个房间能偷到的最大值\n",
    "        # 要么偷第k间房，那么就是前(k-2)个房间能偷到最大值 + 第k间房的钱\n",
    "        # f(0) = 0\n",
    "        # f(1) = nums[0]\n",
    "        # f(k) = max(f(k-1), f(k-2)+nums[k-1]), 注意nums[k-1]才是第k间房的钱\n",
    "\n",
    "        n = len(nums)\n",
    "        dp = [0] * (n+1)\n",
    "        dp[0] = 0\n",
    "        dp[1] = nums[0]\n",
    "\n",
    "        for i in range(2, n+1):\n",
    "            dp[i] = max(dp[i-1], dp[i-2] + nums[i-1])\n",
    "        return dp[n]\n"
   ]
  },
  {
   "cell_type": "markdown",
   "id": "76d4e416",
   "metadata": {},
   "source": [
    "# 279 完全平方数\n",
    "给你一个整数 n ，返回 和为 n 的完全平方数的最少数量 。"
   ]
  },
  {
   "cell_type": "code",
   "execution_count": null,
   "id": "daae60d4",
   "metadata": {},
   "outputs": [],
   "source": [
    "class Solution:\n",
    "    def numSquares(self, n: int) -> int:\n",
    "        # 子问题：和为数字k的最少完全平方数为f(k)个数字\n",
    "        # 例如 k = 10\n",
    "        # 10 = 1+9, 4+6, 9+1\n",
    "        # 则 f(10) = 1 + min(f(9), f(6), f(1))\n",
    "        # f(k) = 1 + min(i=1)(i=sqrt(k))f(k-i**2)\n",
    "        # 边界：f(0) = 0\n",
    "        import math\n",
    "\n",
    "        dp = [0] * (n+1)\n",
    "        for k in range(1, n+1):\n",
    "            tempMin = []\n",
    "            for i in range(1, int(math.sqrt(k))+1):\n",
    "                tempMin.append(dp[k - i**2])\n",
    "            dp[k] = 1 + min(tempMin)\n",
    "        return dp[n]\n",
    "        "
   ]
  },
  {
   "cell_type": "markdown",
   "id": "a8301739",
   "metadata": {},
   "source": [
    "# 322 零钱兑换\n",
    "给你一个整数数组 coins ，表示不同面额的硬币；以及一个整数 amount ，表示总金额。\n",
    "计算并返回可以凑成总金额所需的 最少的硬币个数 。如果没有任何一种硬币组合能组成总金额，返回 -1 。\n",
    "你可以认为每种硬币的数量是无限的。"
   ]
  },
  {
   "cell_type": "code",
   "execution_count": null,
   "id": "fb3c6c42",
   "metadata": {},
   "outputs": [],
   "source": [
    "class Solution:\n",
    "    def coinChange(self, coins: List[int], amount: int) -> int:\n",
    "        # 动态规划特征：递归+重复子问题\n",
    "        # 子问题：总金额为k时所需要的最小硬币数量\n",
    "        # 假设总金额为11，硬币为c = [1, 2, 5]\n",
    "        # dp[11] = min(1+dp[10], 1+dp[9], 1+dp[6])\n",
    "        # 因为取最小值，所以初始化dp[k]为一个较大的值\n",
    "        # dp[k] = min(dp[k], 1 + dp[k-c])\n",
    "        dp = [amount+1] * (amount+1)\n",
    "        dp[0] = 0\n",
    "        # 枚举每一个金额\n",
    "        for k in range(1, amount+1):\n",
    "            # 枚举每一个硬币\n",
    "            for c in coins:\n",
    "                # 假设使用硬币c，那么最少硬币就会由k-c转换而来\n",
    "                if k-c >= 0:\n",
    "                    dp[k] = min(dp[k], dp[k-c]+1)\n",
    "        if dp[amount] < amount+1:\n",
    "            return dp[amount]\n",
    "        else:\n",
    "            return -1\n",
    "    "
   ]
  },
  {
   "cell_type": "markdown",
   "id": "705a6fe7",
   "metadata": {},
   "source": [
    "# 215 数组中的第k个最大元素\n",
    "给定整数数组 nums 和整数 k，请返回数组中第 k 个最大的元素。\n",
    "请注意，你需要找的是数组排序后的第 k 个最大的元素，而不是第 k 个不同的元素。\n",
    "你必须设计并实现时间复杂度为 O(n) 的算法解决此问题。"
   ]
  },
  {
   "cell_type": "code",
   "execution_count": null,
   "id": "d42ba7c2",
   "metadata": {},
   "outputs": [],
   "source": [
    "class Solution:\n",
    "    def findKthLargest(self, nums: List[int], k: int) -> int:\n",
    "        # 排序后返回倒数第k个元素\n",
    "        # N = len(nums)\n",
    "        # nums = sorted(nums)\n",
    "        # return nums[N-k]\n",
    "        \n",
    "        # 快排写法\n",
    "        # 先写partition函数\n",
    "        def partition(nums, left, right):\n",
    "            pivot = nums[left] #初始化一个待比较数据\n",
    "            i, j = left, right\n",
    "            while i<j:\n",
    "                while i<j and nums[j] >= pivot: #从后往前查找，直到找到一个比pivot更小的数\n",
    "                    j -= 1\n",
    "                nums[i] = nums[j] #将更小的数放入左边\n",
    "                while i<j and nums[i] <= pivot: #从前往后找，直到找到一个比pivot更大的数\n",
    "                    i += 1\n",
    "                nums[j] = nums[i] #将更大的数放入右边\n",
    "            #循环结束，i与j相等\n",
    "            nums[i] = pivot #待比较数据放入最终位置 \n",
    "            return i #返回待比较数据最终位置\n",
    "\n",
    "        # 快速排序\n",
    "        def quicksort(nums, left, right):\n",
    "            if left < right:\n",
    "                index = partition(nums, left, right)\n",
    "                quicksort(nums, left, index-1)\n",
    "                quicksort(nums, index+1, right)\n",
    "            return nums\n",
    "            \n",
    "        # 对整个列表进行快速排序\n",
    "        nums = quicksort(nums, 0, len(nums)-1)\n",
    "        return nums[len(nums)-k]"
   ]
  },
  {
   "cell_type": "markdown",
   "id": "ad03c5fd",
   "metadata": {},
   "source": [
    "# 394 字符串解码\n",
    "给定一个经过编码的字符串，返回它解码后的字符串。\n",
    "编码规则为: k[encoded_string]，表示其中方括号内部的 encoded_string 正好重复 k 次。注意 k 保证为正整数。\n",
    "你可以认为输入字符串总是有效的；输入字符串中没有额外的空格，且输入的方括号总是符合格式要求的。\n",
    "此外，你可以认为原始数据不包含数字，所有的数字只表示重复的次数 k ，例如不会出现像 3a 或 2[4] 的输入。\n",
    "测试用例保证输出的长度不会超过 105。"
   ]
  },
  {
   "cell_type": "code",
   "execution_count": null,
   "id": "f74e8f84",
   "metadata": {},
   "outputs": [],
   "source": [
    "class Solution:\n",
    "    def decodeString(self, s: str) -> str:\n",
    "        stack ,res, multi = [], \"\", 0\n",
    "        for c in s:\n",
    "            if c == '[':\n",
    "                stack.append([multi, res])\n",
    "                res = \"\"\n",
    "                multi = 0\n",
    "            elif c == ']':\n",
    "                cur_multi, last_res = stack.pop()\n",
    "                res = last_res + cur_multi*res\n",
    "            elif '0'<= c <= '9':\n",
    "                multi = multi*10 + int(c)\n",
    "            else:\n",
    "                res += c\n",
    "        return res\n",
    "\n",
    "# s = \"3[a2[c]]\"\n",
    "\n",
    "# c1 = '3':\n",
    "#     multi = 3\n",
    "# c2 = '[':\n",
    "#     stack = [[3, '']], res = \"\", multi = 0\n",
    "# c3 = 'a':\n",
    "#     res = 'a'\n",
    "# c4 = '2':\n",
    "#     multi = 2\n",
    "# c5 = '[':\n",
    "#     stack = [[3, ''], [2, 'a']], res = \"\", multi = 0\n",
    "# c6 = 'c':\n",
    "#     res = 'c'\n",
    "# c7 = ']':\n",
    "#     cur_multi = 2, last_res = 'a', stack = [[3, '']]\n",
    "#     res = 'a' + 2*'c' = 'acc'\n",
    "# c8 = ']':\n",
    "#     cur_multi = 3, last_res = ''\n",
    "#     res = '' + 3*'acc' = 'accaccacc'\n",
    "  "
   ]
  },
  {
   "cell_type": "markdown",
   "id": "a1a6f40c",
   "metadata": {},
   "source": [
    "# 739 每日温度\n",
    "给定一个整数数组 temperatures ，表示每天的温度，返回一个数组 answer ，其中 answer[i] 是指对于第 i 天，下一个更高温度出现在几天后。如果气温在这之后都不会升高，请在该位置用 0 来代替。"
   ]
  },
  {
   "cell_type": "code",
   "execution_count": null,
   "id": "7589b7d4",
   "metadata": {},
   "outputs": [],
   "source": [
    "class Solution:\n",
    "    def dailyTemperatures(self, temperatures: List[int]) -> List[int]:\n",
    "        # 本办法迭代\n",
    "        # n = len(temperatures)\n",
    "        # answer = [0] * n\n",
    "        # for i in range(n):\n",
    "        #     flag = 0\n",
    "        #     for j in range(i+1, n):\n",
    "        #         if temperatures[j] <= temperatures[i]:\n",
    "        #             flag += 1\n",
    "        #         else:\n",
    "        #             flag += 1\n",
    "        #             answer[i] = flag\n",
    "        #             break     \n",
    "        # return answer\n",
    "\n",
    "        # 聪明办法 单调栈\n",
    "        n = len(temperatures)\n",
    "        ans = [0] * n\n",
    "        st = [] # 还没有找到有更高温度的那一天的索引\n",
    "        for i, t in enumerate(temperatures):\n",
    "            # 如果当前温度 t 比栈顶索引对应的温度还高，说明我们找到了 栈顶那一天 的答案\n",
    "            # 可能当前温度 t 不只比栈顶那天高，还比栈里的好几天都高，那么我们就要一口气解决掉\n",
    "            while st and t > temperatures[st[-1]]:\n",
    "                j = st.pop()\n",
    "                ans[j] = i-j\n",
    "            # 当前这一天 i 的答案还没确定（还不知道哪一天温度更高），所以把 i 入栈，等待以后更高温度出现时再解决。\n",
    "            st.append(i)\n",
    "        return ans"
   ]
  },
  {
   "cell_type": "markdown",
   "id": "d85e5352",
   "metadata": {},
   "source": [
    "# 438 找到字符串中所有字母异位词\n",
    "给定两个字符串 s 和 p，找到 s 中所有 p 的 异位词 的子串，返回这些子串的起始索引。不考虑答案输出的顺序。  \n",
    "示例：  \n",
    "输入: s = \"cbaebabacd\", p = \"abc\"\n",
    "输出: [0,6]\n",
    "解释:\n",
    "起始索引等于 0 的子串是 \"cba\", 它是 \"abc\" 的异位词。\n",
    "起始索引等于 6 的子串是 \"bac\", 它是 \"abc\" 的异位词。"
   ]
  },
  {
   "cell_type": "code",
   "execution_count": null,
   "id": "e5f1795e",
   "metadata": {},
   "outputs": [
    {
     "name": "stdout",
     "output_type": "stream",
     "text": [
      "True\n"
     ]
    }
   ],
   "source": [
    "class Solution:\n",
    "    def findAnagrams(self, s: str, p: str) -> List[int]:\n",
    "        # 滑动窗口\n",
    "        n, m, res = len(s), len(p), []\n",
    "        if n < m:\n",
    "            return res\n",
    "        p_cnt = [0] * 26 # 统计p中26个英文字母出现的次数\n",
    "        s_cnt = [0] * 26 # 统计s中26个英文字母出现的次数\n",
    "        for i in range(m):\n",
    "            p_cnt[ord(p[i]) - ord('a')] += 1 # p中每个字母出现的次数, ord会返回一个字母的unicode编码\n",
    "            s_cnt[ord(s[i]) - ord('a')] += 1 # s中前m个字母每个字母出现的次数\n",
    "        if p_cnt == s_cnt:\n",
    "            res.append(0)\n",
    "        # 滑动窗口\n",
    "        for i in range(m,n): \n",
    "            s_cnt[ord(s[i-m]) - ord('a')] -= 1 # 移除原先最左边字母占用的次数\n",
    "            s_cnt[ord(s[i]) - ord('a')] += 1 # 加入新的最右边字母对应的次数\n",
    "            if p_cnt == s_cnt:\n",
    "                res.append(i-m+1)\n",
    "        return res\n",
    "\n",
    "        "
   ]
  },
  {
   "cell_type": "markdown",
   "id": "9fe1f7a7",
   "metadata": {},
   "source": [
    "# 560 和为k的子数组\n",
    "给你一个整数数组 nums 和一个整数 k ，请你统计并返回 该数组中和为 k 的子数组的个数 。\n",
    "子数组是数组中元素的连续非空序列。  \n",
    "\n",
    "示例 1：  \n",
    "输入：nums = [1,1,1], k = 2  \n",
    "输出：2  "
   ]
  },
  {
   "cell_type": "code",
   "execution_count": null,
   "id": "0e647863",
   "metadata": {},
   "outputs": [],
   "source": [
    "class Solution:\n",
    "    def subarraySum(self, nums: List[int], k: int) -> int:\n",
    "        # 暴力枚举\n",
    "        # n = len(nums)\n",
    "        # ans = 0\n",
    "        # 长为n的nums可能有n中不同长度的字串\n",
    "        # for i in range(1,n+1): # 长为i的字串\n",
    "        #   for j in range(n - i + 1): # 字串的起始索引\n",
    "        #       son = nums[j:j+i]\n",
    "        #        if sum(son) == k:\n",
    "        #            ans += 1\n",
    "        # return ans\n",
    "        \n",
    "        # 前缀和加字典\n",
    "        pre_sum = 0\n",
    "        count = {0: 1}   # 存放前缀和出现次数\n",
    "        ans = 0\n",
    "        for num in nums:\n",
    "            pre_sum += num\n",
    "            if pre_sum - k in count:  # 找到符合条件的子数组\n",
    "                ans += count[pre_sum - k]\n",
    "            count[pre_sum] = count.get(pre_sum, 0) + 1\n",
    "        return ans\n",
    "        "
   ]
  },
  {
   "cell_type": "markdown",
   "id": "382059cb",
   "metadata": {},
   "source": [
    "# 108 将有序数组转换为平衡搜索二叉树\n",
    "给你一个整数数组 nums ，其中元素已经按 升序 排列，请你将其转换为一棵 平衡 二叉搜索树。"
   ]
  },
  {
   "cell_type": "code",
   "execution_count": null,
   "id": "da698395",
   "metadata": {},
   "outputs": [],
   "source": [
    "# Definition for a binary tree node.\n",
    "# class TreeNode:\n",
    "#     def __init__(self, val=0, left=None, right=None):\n",
    "#         self.val = val\n",
    "#         self.left = left\n",
    "#         self.right = right\n",
    "class Solution:\n",
    "    def sortedArrayToBST(self, nums: List[int]) -> Optional[TreeNode]:\n",
    "        # 做一个中序遍历的搜索二叉树即可\n",
    "        # 平衡二叉树：任意左右子树高度差不大于1\n",
    "        # 搜索二叉树：任意左节点 < 根节点 < 右节点\n",
    "        # 中序：左，根，右\n",
    "        # 前序：根，左，右\n",
    "        # 后续：左，右，根\n",
    "        def make_Tree(left, right):\n",
    "            if left > right:\n",
    "                return None\n",
    "            mid = (left + right)//2\n",
    "            root = TreeNode(nums[mid])\n",
    "            root.left = make_Tree(left, mid - 1)\n",
    "            root.right = make_Tree(mid+1, right)\n",
    "            return root\n",
    "\n",
    "        ans = make_Tree(0, len(nums)-1)\n",
    "        return ans"
   ]
  },
  {
   "cell_type": "markdown",
   "id": "b28c75b6",
   "metadata": {},
   "source": []
  },
  {
   "cell_type": "code",
   "execution_count": null,
   "id": "656370eb",
   "metadata": {},
   "outputs": [
    {
     "data": {
      "text/plain": [
       "-10"
      ]
     },
     "execution_count": 5,
     "metadata": {},
     "output_type": "execute_result"
    }
   ],
   "source": [
    "\n",
    "# Definition for a binary tree node.\n",
    "from typing import List, Optional\n",
    "\n",
    "\n",
    "class TreeNode:\n",
    "    def __init__(self, val=0, left=None, right=None):\n",
    "        self.val = val\n",
    "        self.left = left\n",
    "        self.right = right\n",
    "\n",
    "class Solution:\n",
    "    def sortedArrayToBST(self, nums: List[int]) -> Optional[TreeNode]:\n",
    "        # 做一个中序遍历的搜索二叉树即可\n",
    "        # 平衡二叉树：任意左右子树高度差不大于1\n",
    "        # 搜索二叉树：任意左节点 < 根节点 < 右节点\n",
    "        # 中序：左，根，右\n",
    "        # 前序：根，左，右\n",
    "        # 后续：左，右，根\n",
    "        def make_Tree(left, right):\n",
    "            if left > right:\n",
    "                return None\n",
    "            mid = (left + right)//2\n",
    "            root = TreeNode(nums[mid])\n",
    "            root.left = make_Tree(left, mid - 1)\n",
    "            root.right = make_Tree(mid+1, right)\n",
    "            return root\n",
    "\n",
    "        ans = make_Tree(0, len(nums)-1)\n",
    "        return ans\n",
    "\n",
    "nums = [-10,-3,0,5,9]\n",
    "A = Solution()\n",
    "ans = A.sortedArrayToBST(nums)"
   ]
  },
  {
   "cell_type": "markdown",
   "id": "c4b33df2",
   "metadata": {},
   "source": [
    "# 98 验证二叉搜索树\n",
    "给你一个二叉树的根节点 root ，判断其是否是一个有效的二叉搜索树  \n",
    "输入：root = [2,1,3]\n",
    "输出：true"
   ]
  },
  {
   "cell_type": "code",
   "execution_count": null,
   "id": "4bcefe2b",
   "metadata": {},
   "outputs": [],
   "source": [
    "# Definition for a binary tree node.\n",
    "# class TreeNode:\n",
    "#     def __init__(self, val=0, left=None, right=None):\n",
    "#         self.val = val\n",
    "#         self.left = left\n",
    "#         self.right = right\n",
    "class Solution:\n",
    "    def isValidBST(self, root: Optional[TreeNode]) -> bool:\n",
    "        # 二叉搜索树的中序遍历结果一定从小到大排列\n",
    "        stack, inorder = [], float('-inf')\n",
    "        while stack or root:\n",
    "            while root:\n",
    "                stack.append(root)\n",
    "                root = root.left\n",
    "            root = stack.pop()  \n",
    "        # 如果中序遍历的结果小于等于前一个inorder，说明不是二叉搜索树\n",
    "            if root.val <= inorder:\n",
    "                return False\n",
    "            inorder = root.val\n",
    "            root = root.right\n",
    "        return True\n",
    "\n",
    "        # 对应的中序遍历写法\n",
    "        # stack = []\n",
    "        # res = []\n",
    "        # while stack or root:\n",
    "        #     while root:\n",
    "        #         stack.appen(root)\n",
    "        #         root = root.left\n",
    "        #     root = stack.pop()\n",
    "        #     res.append(root.val)\n",
    "        #     root = root.right\n",
    "        # return res"
   ]
  },
  {
   "cell_type": "markdown",
   "id": "0c47cdf1",
   "metadata": {},
   "source": [
    "# 230 二叉搜索数中第k小的元素\n",
    "给定一个二叉搜索树的根节点 root ，和一个整数 k ，请你设计一个算法查找其中第 k 小的元素（从 1 开始计数）。\n",
    "输入：root = [3,1,4,null,2], k = 1\n",
    "输出：1"
   ]
  },
  {
   "cell_type": "code",
   "execution_count": 6,
   "id": "e6590605",
   "metadata": {},
   "outputs": [],
   "source": [
    "# Definition for a binary tree node.\n",
    "# class TreeNode:\n",
    "#     def __init__(self, val=0, left=None, right=None):\n",
    "#         self.val = val\n",
    "#         self.left = left\n",
    "#         self.right = right\n",
    "class Solution:\n",
    "    def kthSmallest(self, root: Optional[TreeNode], k: int) -> int:\n",
    "        # 二叉搜索树的中序遍历结果一定是从小到大的\n",
    "        # 因此返回中序遍历的k-1个元素即可\n",
    "        res = []\n",
    "        def inorder(root):\n",
    "            if not root:\n",
    "                return\n",
    "            inorder(root.left)\n",
    "            res.append(root.val)\n",
    "            inorder(root.right)\n",
    "        inorder(root)\n",
    "        return res[k-1]"
   ]
  },
  {
   "cell_type": "markdown",
   "id": "1727246f",
   "metadata": {},
   "source": [
    "# 199 二叉树的右视图\n",
    "给定一个二叉树的 根节点 root，想象自己站在它的右侧，按照从顶部到底部的顺序，返回从右侧所能看到的节点值。  \n",
    "示例 1：  \n",
    "输入：root = [1,2,3,null,5,null,4]  \n",
    "输出：[1,3,4]"
   ]
  },
  {
   "cell_type": "markdown",
   "id": "14c1bdfb",
   "metadata": {},
   "source": [
    "写法1："
   ]
  },
  {
   "cell_type": "code",
   "execution_count": 7,
   "id": "dc6654d3",
   "metadata": {},
   "outputs": [],
   "source": [
    "# Definition for a binary tree node.\n",
    "# class TreeNode:\n",
    "#     def __init__(self, val=0, left=None, right=None):\n",
    "#         self.val = val\n",
    "#         self.left = left\n",
    "#         self.right = right\n",
    "class Solution:\n",
    "    def rightSideView(self, root: Optional[TreeNode]) -> List[int]:\n",
    "        # 先递归右子树，再递归左子树\n",
    "        # 如果某个深度首次到达，对应节点就应该在右视图中\n",
    "        ans = []\n",
    "        depth = 0\n",
    "        def dfs(node,depth):\n",
    "            if not node:\n",
    "                return\n",
    "            if len(ans) == depth:\n",
    "                ans.append(node.val)\n",
    "            dfs(node.right, depth + 1) # 先递归右子树\n",
    "            dfs(node.left, depth +1)\n",
    "        dfs(root, 0)\n",
    "        return ans\n",
    "        "
   ]
  },
  {
   "cell_type": "markdown",
   "id": "834dac41",
   "metadata": {},
   "source": [
    "写法2，层序遍历"
   ]
  },
  {
   "cell_type": "code",
   "execution_count": null,
   "id": "ddd88631",
   "metadata": {},
   "outputs": [],
   "source": [
    "# Definition for a binary tree node.\n",
    "# class TreeNode:\n",
    "#     def __init__(self, val=0, left=None, right=None):\n",
    "#         self.val = val\n",
    "#         self.left = left\n",
    "#         self.right = right\n",
    "class Solution:\n",
    "    def rightSideView(self, root: Optional[TreeNode]) -> List[int]:\n",
    "        # 层序遍历，但是先遍历右子节点\n",
    "        \"\"\"\n",
    "        二叉树的层序遍历，思路如下：\n",
    "        创建一个队列 queue, 初始时只放 root 节点\n",
    "        进入循环，每次处理一层的所有节点\n",
    "        用一个临时列表 level 来保存这一层的所有节点值\n",
    "        把当前节点的左右孩子加入到队列中\n",
    "        最后返回所有层结果 res\n",
    "        \"\"\"\n",
    "        if not root:\n",
    "            return []\n",
    "        ans = []\n",
    "        queue = deque([root]) # 初始化队列\n",
    "        while queue:\n",
    "            ans.append(queue[0].val)\n",
    "            for _ in range(len(queue)):\n",
    "                node = queue.popleft()\n",
    "                if node.right: # 先遍历右子树\n",
    "                    queue.append(node.right) \n",
    "                if node.left:\n",
    "                    queue.append(node.left)\n",
    "        return ans"
   ]
  },
  {
   "cell_type": "markdown",
   "id": "534559f7",
   "metadata": {},
   "source": [
    "# 114 将二叉树转换为链表\n",
    "给你二叉树的根结点 root ，请你将它展开为一个单链表：  \n",
    "展开后的单链表应该同样使用 TreeNode ，其中 right 子指针指向链表中下一个结点，而左子指针始终为 null 。\n",
    "展开后的单链表应该与二叉树 先序遍历 顺序相同。"
   ]
  },
  {
   "cell_type": "markdown",
   "id": "aa0e481c",
   "metadata": {},
   "source": [
    "输入：root = [1,2,5,3,4,null,6]  \n",
    "输出：[1,null,2,null,3,null,4,null,5,null,6]"
   ]
  },
  {
   "cell_type": "code",
   "execution_count": 2,
   "id": "48112fee",
   "metadata": {},
   "outputs": [],
   "source": [
    "from typing import Optional\n",
    "\n",
    "# Definition for a binary tree node.\n",
    "class TreeNode:\n",
    "    def __init__(self, val=0, left=None, right=None):\n",
    "        self.val = val\n",
    "        self.left = left\n",
    "        self.right = right\n",
    "class Solution:\n",
    "    head = None\n",
    "    def flatten(self, root: Optional[TreeNode]) -> None:\n",
    "        \"\"\"\n",
    "        Do not return anything, modify root in-place instead.\n",
    "        \"\"\"\n",
    "        # 将二叉树展开为类似链表结构，实际上是将二叉树转换为单链二叉树，left全为null\n",
    "        # 采用头插法构建链表，因此就是反过来的先序遍历\n",
    "        # 即按照右-左-根的顺序DFS二叉树\n",
    "        if not root:\n",
    "            return\n",
    "        self.flatten(root.right)\n",
    "        self.flatten(root.left)\n",
    "        # 头插法构建链表\n",
    "        # 注意这个链表不是真的链表，而是要做二叉树left=None，right=next\n",
    "        root.left = None\n",
    "        root.right = self.head # 相当于node.next = head\n",
    "        self.head = root"
   ]
  },
  {
   "cell_type": "markdown",
   "id": "ebfe707f",
   "metadata": {},
   "source": [
    "# 200 岛屿数量\n",
    "给你一个由 '1'（陆地）和 '0'（水）组成的的二维网格，请你计算网格中岛屿的数量。\n",
    "岛屿总是被水包围，并且每座岛屿只能由水平方向和/或竖直方向上相邻的陆地连接形成。\n",
    "此外，你可以假设该网格的四条边均被水包围。  \n",
    "\n",
    "示例 1：\n",
    "输入：grid = [  \n",
    "  [\"1\",\"1\",\"1\",\"1\",\"0\"],  \n",
    "  [\"1\",\"1\",\"0\",\"1\",\"0\"],  \n",
    "  [\"1\",\"1\",\"0\",\"0\",\"0\"],  \n",
    "  [\"0\",\"0\",\"0\",\"0\",\"0\"]  \n",
    "]  \n",
    "输出：1  "
   ]
  },
  {
   "cell_type": "code",
   "execution_count": null,
   "id": "19dff40c",
   "metadata": {},
   "outputs": [],
   "source": [
    "class Solution:\n",
    "    def numIslands(self, grid: List[List[str]]) -> int:\n",
    "        \"\"\"\n",
    "        遍历整张地图，如果遇到 \"1\"（还没访问过的陆地），就把 res += 1。\n",
    "        用 DFS 把这个岛屿的所有陆地 \"1\" 改成 \"2\"（标记成已访问）。\n",
    "        继续遍历，直到结束。\"\"\"\n",
    "        res = 0\n",
    "        for r in range(len(grid)):\n",
    "            for c in range(len(grid[0])):\n",
    "                if grid[r][c] == \"1\":\n",
    "                    res += 1\n",
    "                    self.dfs(grid, r, c)\n",
    "        return res\n",
    "    \n",
    "    def inArea(self, grid, r, c):\n",
    "        if 0 <= r and r < len(grid) and 0 <= c and c < len(grid[0]):\n",
    "            return True\n",
    "        else:\n",
    "            return False\n",
    "    \n",
    "    def dfs(self, grid, r, c):\n",
    "        if not self.inArea(grid, r, c):\n",
    "            return \n",
    "        if grid[r][c] != \"1\":\n",
    "            return \n",
    "        grid[r][c] = \"2\"\n",
    "        self.dfs(grid, r-1, c)\n",
    "        self.dfs(grid, r+1, c)\n",
    "        self.dfs(grid, r, c-1)\n",
    "        self.dfs(grid, r, c+1)\n",
    "        "
   ]
  },
  {
   "cell_type": "markdown",
   "id": "a0cdd23c",
   "metadata": {},
   "source": [
    "# 994 腐烂的橘子\n",
    "在给定的 m x n 网格 grid 中，每个单元格可以有以下三个值之一：  \n",
    "值 0 代表空单元格；  \n",
    "值 1 代表新鲜橘子；  \n",
    "值 2 代表腐烂的橘子。  \n",
    "每分钟，腐烂的橘子 周围 4 个方向上相邻 的新鲜橘子都会腐烂。  \n",
    "返回 直到单元格中没有新鲜橘子为止所必须经过的最小分钟数。如果不可能，返回 -1 。  \n",
    "\n",
    "输入：grid = [[2,1,1],[1,1,0],[0,1,1]]  \n",
    "输出：4  "
   ]
  },
  {
   "cell_type": "code",
   "execution_count": 5,
   "id": "593bd633",
   "metadata": {},
   "outputs": [],
   "source": [
    "class Solution:\n",
    "    def orangesRotting(self, grid: List[List[int]]) -> int:\n",
    "        \"\"\"\n",
    "        最短路径问题：层序遍历\n",
    "        一开始，我们找出所有腐烂的橘子，将它们放入队列，作为第 0 层的结点。\n",
    "        然后进行 BFS 遍历，每个结点的相邻结点可能是上、下、左、右四个方向的结点，注意判断结点位于网格边界的特殊情况。\n",
    "        由于可能存在无法被污染的橘子，我们需要记录新鲜橘子的数量。\n",
    "        在 BFS 中，每遍历到一个橘子（污染了一个橘子），就将新鲜橘子的数量减一。\n",
    "        如果 BFS 结束后这个数量仍未减为零，说明存在无法被污染的橘子。\n",
    "        \"\"\"\n",
    "        queue = []\n",
    "        count = 0 # count 表示新鲜橘子数量\n",
    "        round = 0 # round表示腐烂轮数\n",
    "        for r in range(len(grid)):\n",
    "            for c in range(len(grid[0])):\n",
    "                if grid[r][c] == 1:\n",
    "                    count += 1\n",
    "                elif grid[r][c] == 2:\n",
    "                    queue.append((r,c))\n",
    "        while count > 0 and len(queue) > 0:\n",
    "            round += 1\n",
    "            n = len(queue)\n",
    "            for i in range(n):\n",
    "                r,c = queue.pop(0)\n",
    "                if r-1 >= 0 and grid[r-1][c] == 1:\n",
    "                    grid[r-1][c] = 2\n",
    "                    count -= 1\n",
    "                    queue.append((r-1,c))\n",
    "                if r+1 < len(grid) and grid[r+1][c] == 1:\n",
    "                    grid[r+1][c] = 2\n",
    "                    count -= 1\n",
    "                    queue.append((r+1,c))\n",
    "                if c-1 >= 0 and grid[r][c-1] == 1:\n",
    "                    grid[r][c-1] = 2\n",
    "                    count -= 1\n",
    "                    queue.append((r,c-1))\n",
    "                if c+1 < len(grid[0]) and grid[r][c+1] == 1:\n",
    "                    grid[r][c+1] = 2\n",
    "                    count -= 1\n",
    "                    queue.append((r,c+1))\n",
    "        if count >= 1:\n",
    "            return -1\n",
    "        else:\n",
    "            return round\n"
   ]
  },
  {
   "cell_type": "markdown",
   "id": "e21fe98c",
   "metadata": {},
   "source": [
    "# 207 课程表\n",
    "你这个学期必须选修 numCourses 门课程，记为 0 到 numCourses - 1 。  \n",
    "在选修某些课程之前需要一些先修课程。 先修课程按数组 prerequisites 给出，其中 prerequisites[i] = [ai, bi] ，表示如果要学习课程 ai 则 必须 先学习课程  bi 。例如，先修课程对 [0, 1] 表示：想要学习课程 0 ，你需要先完成课程 1 。\n",
    "请你判断是否可能完成所有课程的学习？如果可以，返回 true ；否则，返回 false 。"
   ]
  },
  {
   "cell_type": "code",
   "execution_count": 7,
   "id": "c2f18c14",
   "metadata": {},
   "outputs": [],
   "source": [
    "class Solution:\n",
    "    def canFinish(self, numCourses: int, prerequisites: List[List[int]]) -> bool:\n",
    "        # 选课问题其实是拓扑排序, 每次处理入度为0(当前可选)的节点(队列)\n",
    "        # 修改这门课修完后其他课程的变化(用字典记录)\n",
    "\n",
    "        indegree = [0] * numCourses\n",
    "        adj = defaultdict(list) # key为当前课程，value为它的后续课程\n",
    "\n",
    "        # 初始化入度和字典\n",
    "        for cur, pre in prerequisites: # [1,0]\n",
    "            indegree[cur] += 1\n",
    "            adj[pre].append(cur) # 课程0的后续课程有1\n",
    "        \n",
    "        # 把入度为0的课程加入队列\n",
    "        q = deque()\n",
    "        for i in range(numCourses):\n",
    "            if indegree[i] == 0:\n",
    "                q.append(i)\n",
    "        \n",
    "        # 开始bfs\n",
    "        # 每次处理入度为0的课程\n",
    "        while q:\n",
    "            for i in range(len(q)):\n",
    "                # 当前处理的课程\n",
    "                pre = q.popleft()\n",
    "                numCourses -= 1 # 处理完一个课程，要修的课程就-1\n",
    "                # 修完当前课程后，其后续课程入度的变化\n",
    "                for cur in adj[pre]:\n",
    "                    # 课程pre已经完成，入度减一\n",
    "                    indegree[cur] -= 1\n",
    "                    # 如果入度减到0，加入队列\n",
    "                    if indegree[cur] == 0:\n",
    "                        q.append(cur)\n",
    "        return numCourses == 0"
   ]
  },
  {
   "cell_type": "markdown",
   "id": "cb027fb9",
   "metadata": {},
   "source": [
    "# 121 买卖股票的最佳时机\n",
    "给定一个数组 prices ，它的第 i 个元素 prices[i] 表示一支给定股票第 i 天的价格。\n",
    "你只能选择 某一天 买入这只股票，并选择在 未来的某一个不同的日子 卖出该股票。设计一个算法来计算你所能获取的最大利润。\n",
    "返回你可以从这笔交易中获取的最大利润。如果你不能获取任何利润，返回 0 。\n",
    "\n",
    "示例 1：  \n",
    "输入：[7,1,5,3,6,4]  \n",
    "输出：5  "
   ]
  },
  {
   "cell_type": "code",
   "execution_count": 2,
   "id": "c82666b1",
   "metadata": {},
   "outputs": [],
   "source": [
    "from typing import List\n",
    "# 暴力枚举\n",
    "class Solution:\n",
    "    def maxProfit(self, prices: List[int]) -> int:\n",
    "        mp = 0\n",
    "        profits = []\n",
    "        for i in range(len(prices)):\n",
    "            for j in range(i, len(prices)):\n",
    "                if mp < prices[j] - prices[i]:\n",
    "                    mp = prices[j] - prices[i]\n",
    "        if mp <= 0:\n",
    "            return 0\n",
    "        else:\n",
    "            return mp        "
   ]
  },
  {
   "cell_type": "code",
   "execution_count": 3,
   "id": "e335e09d",
   "metadata": {},
   "outputs": [],
   "source": [
    "class Solution:\n",
    "    def maxProfit(self, prices: List[int]) -> int:\n",
    "        # 贪心算法\n",
    "        # 更新前 i 天的最低价格，即最低买入成本 cost；\n",
    "        # 更新前 i 天的最高利润 profit ，即选择「前 i−1 天最高利润 profit 」和「第 i 天卖出的最高利润 price - cost 」中的最大值 ；\n",
    "\n",
    "        cost = float('+inf')\n",
    "        profit = 0\n",
    "        for price in prices:\n",
    "            cost = min(cost,price)\n",
    "            profit = max(profit, price - cost)\n",
    "        return profit\n",
    "       "
   ]
  },
  {
   "cell_type": "markdown",
   "id": "242df06a",
   "metadata": {},
   "source": [
    "# 55 跳跃游戏\n",
    "给你一个非负整数数组 nums ，你最初位于数组的 第一个下标 。数组中的每个元素代表你在该位置可以跳跃的最大长度。\n",
    "判断你是否能够到达最后一个下标，如果可以，返回 true ；否则，返回 false 。\n",
    "\n",
    "示例 1：  \n",
    "输入：nums = [2,3,1,1,4]  \n",
    "输出：true  \n",
    "解释：可以先跳 1 步，从下标 0 到达下标 1, 然后再从下标 1 跳 3 步到达最后一个下标。"
   ]
  },
  {
   "cell_type": "code",
   "execution_count": null,
   "id": "a2d00bd3",
   "metadata": {},
   "outputs": [],
   "source": [
    "class Solution:\n",
    "    def canJump(self, nums: List[int]) -> bool:\n",
    "        # 尽可能到达最远位置（贪心）。\n",
    "        # 如果能到达某个位置，那一定能到达它前面的所有位置\n",
    "        # 初始化最远位置为 0，然后遍历数组，如果当前位置能到达，并且当前位置+跳数>最远位置，就更新最远位置。\n",
    "        # 最后比较最远位置和数组长度。\n",
    "\n",
    "        n = len(nums)-1\n",
    "        max_i = 0   # i代表位置，即数组下标\n",
    "        for i, jump in enumerate(nums):\n",
    "            if max_i >= i and i+jump > max_i: # max_i: 之前步骤能到的最远位置\n",
    "            # 如果max_i < i, 说明这个位置到不了，也就跳不了\n",
    "                max_i = i+jump\n",
    "        return max_i >= n"
   ]
  },
  {
   "cell_type": "markdown",
   "id": "fcabaeec",
   "metadata": {},
   "source": [
    "# 45 跳跃游戏2\n",
    "给定一个长度为 n 的 0 索引整数数组 nums。初始位置为 nums[0]。\n",
    "每个元素 nums[i] 表示从索引 i 向后跳转的最大长度。换句话说，如果你在索引 i 处，你可以跳转到任意 (i + j) 处：  \n",
    "0 <= j <= nums[i] 且  \n",
    "i + j < n  \n",
    "返回到达 n - 1 的最小跳跃次数。测试用例保证可以到达 n - 1。  \n",
    "示例 1:  \n",
    "输入: nums = [2,3,1,1,4]  \n",
    "输出: 2"
   ]
  },
  {
   "cell_type": "code",
   "execution_count": null,
   "id": "3811b123",
   "metadata": {},
   "outputs": [],
   "source": [
    "class Solution:\n",
    "    def jump(self, nums: List[int]) -> int:\n",
    "        # 别想那么多，就挨着跳吧\n",
    "        \"\"\"如果某一个作为 起跳点 的格子可以跳跃的距离是 3, 那么表示后面 3 个格子都可以作为 起跳点。\n",
    "        可以对每一个能作为 起跳点 的格子都尝试跳一次，把 能跳到最远的距离 不断更新。\n",
    "        如果从这个 起跳点 起跳叫做第 1 次 跳跃，那么从后面 3 个格子起跳 都 可以叫做第 2 次 跳跃。\n",
    "        所以，当一次 跳跃 结束时，从下一个格子开始，到现在 能跳到最远的距离，都 是下一次 跳跃 的 起跳点。\n",
    "        对每一次 跳跃 用 for 循环来模拟。\n",
    "        跳完一次之后，更新下一次 起跳点 的范围。\n",
    "        在新的范围内跳，更新 能跳到最远的距离。\n",
    "        记录 跳跃 次数，如果跳到了终点，就得到了结果。\n",
    "\"\"\"\n",
    "        ans = 0\n",
    "        start = 0\n",
    "        end = 1\n",
    "        while end < len(nums):\n",
    "            maxPos = 0\n",
    "            for i in range(start, end):\n",
    "                maxPos = max(maxPos, i+nums[i])\n",
    "            start = end\n",
    "            end = maxPos + 1\n",
    "            ans += 1\n",
    "        return ans\n",
    "        "
   ]
  },
  {
   "cell_type": "markdown",
   "id": "d02b7fd6",
   "metadata": {},
   "source": [
    "# 763 划分字母区间\n",
    "给你一个字符串 s 。我们要把这个字符串划分为尽可能多的片段，同一字母最多出现在一个片段中。例如，字符串 \"ababcc\" 能够被分为 [\"abab\", \"cc\"]，但类似 [\"aba\", \"bcc\"] 或 [\"ab\", \"ab\", \"cc\"] 的划分是非法的。  \n",
    "注意，划分结果需要满足：将所有划分结果按顺序连接，得到的字符串仍然是 s 。  \n",
    "返回一个表示每个字符串片段的长度的列表。  \n",
    "\n",
    "示例 1：  \n",
    "输入：s = \"ababcbacadefegdehijhklij\"  \n",
    "输出：[9,7,8]  \n",
    "解释：  \n",
    "划分结果为 \"ababcbaca\"、\"defegde\"、\"hijhklij\"   "
   ]
  },
  {
   "cell_type": "code",
   "execution_count": 41,
   "id": "cda18dcc",
   "metadata": {},
   "outputs": [
    {
     "name": "stdout",
     "output_type": "stream",
     "text": [
      "[9, 7, 8]\n"
     ]
    }
   ],
   "source": [
    "from typing import List\n",
    "class Solution:\n",
    "    def partitionLabels(self, s: str) -> List[int]:\n",
    "        #存储某个字母对应地最后一个序号\n",
    "        dic = {char: index for index, char in enumerate(s)}\n",
    "        length = 0\n",
    "        result = []\n",
    "        #第一个字符的最后位置\n",
    "        last = dic[s[0]]\n",
    "        for i in range(len(s)): #逐个遍历\n",
    "            length += 1 #找到一个就加1个长度\n",
    "            if dic[s[i]] > last: #最后位置比刚才的大，就更新最后位置\n",
    "                last = dic[s[i]]\n",
    "            if i == last:\n",
    "            # 找到这一段的结束了，就说明当前位置的index和这个字母在字典里的最后位置应该是相同的\n",
    "                result.append(length)\n",
    "                length = 0 #归0\n",
    "        return result\n",
    "        \n",
    "\n",
    "s = \"ababcbacadefegdehijhklij\"\n",
    "sol = Solution()\n",
    "result = sol.partitionLabels(s)\n",
    "print(result)\n"
   ]
  },
  {
   "cell_type": "markdown",
   "id": "151bd021",
   "metadata": {},
   "source": [
    "# 347 前k个高频元素\n",
    "给你一个整数数组 nums 和一个整数 k ，请你返回其中出现频率前 k 高的元素。你可以按 任意顺序 返回答案。  \n",
    "示例 1：  \n",
    "输入：nums = [1,1,1,2,2,3], k = 2  \n",
    "输出：[1,2]"
   ]
  },
  {
   "cell_type": "code",
   "execution_count": 76,
   "id": "31dcea4e",
   "metadata": {},
   "outputs": [
    {
     "name": "stdout",
     "output_type": "stream",
     "text": [
      "[1, 2]\n"
     ]
    }
   ],
   "source": [
    "from collections import defaultdict\n",
    "class Solution:\n",
    "    def topKFrequent(self, nums: List[int], k: int) -> List[int]:\n",
    "        result = []\n",
    "        dict = defaultdict(int)\n",
    "        for index, num in enumerate(nums):\n",
    "            dict[num] = 0\n",
    "        for index, num in enumerate(nums):\n",
    "            dict[num] = dict[num] +1 \n",
    "        dict = sorted(dict.items(), key=lambda t:t[1], reverse=True)\n",
    "        # print(dict)\n",
    "        # print(dict[1][0])\n",
    "        for i in range(k):\n",
    "            result.append(dict[i][0])\n",
    "        return result\n",
    "\n",
    "\n",
    "nums = [1,1,1,2,2,3]\n",
    "k = 2\n",
    "sol = Solution()\n",
    "result = sol.topKFrequent(nums, 2)\n",
    "print(result)\n",
    "        "
   ]
  },
  {
   "cell_type": "markdown",
   "id": "daeb54e2",
   "metadata": {},
   "source": [
    "# 139 单词拆分\n",
    "给你一个字符串 s 和一个字符串列表 wordDict 作为字典。如果可以利用字典中出现的一个或多个单词拼接出 s 则返回 true。  \n",
    "注意：不要求字典中出现的单词全部都使用，并且字典中的单词可以重复使用。  \n",
    "示例 1：  \n",
    "输入: s = \"leetcode\", wordDict = [\"leet\", \"code\"]  \n",
    "输出: true  \n",
    "解释: 返回 true 因为 \"leetcode\" 可以由 \"leet\" 和 \"code\" 拼接成。  "
   ]
  },
  {
   "cell_type": "code",
   "execution_count": 2,
   "id": "2d96b332",
   "metadata": {},
   "outputs": [
    {
     "name": "stdout",
     "output_type": "stream",
     "text": [
      "True\n"
     ]
    }
   ],
   "source": [
    "from typing import List\n",
    "class Solution:\n",
    "    def wordBreak(self, s: str, wordDict: List[str]) -> bool:\n",
    "        # dp[k]: s的前k位是否可以被拼接\n",
    "        # dp[0]: s的前0位(空字符)一定可以被拼接\n",
    "        dp = [False] * (len(s)+1) \n",
    "        dp[0] = True\n",
    "        # 从s的第i个(i从第一个字符)字符向后找\n",
    "        # 如果能找到一个s[i,j]在worddict中\n",
    "        # 则s的前j位可以被拼接\n",
    "        for i in range(len(s)):\n",
    "            for j in range(i+1, len(s)+1):\n",
    "                if dp[i] and s[i:j] in wordDict:\n",
    "                    dp[j] = True\n",
    "        return dp[-1]\n",
    "\n",
    "\n",
    "s = \"leetcode\" \n",
    "wordDict = [\"leet\", \"code\"]\n",
    "sol = Solution()\n",
    "res = sol.wordBreak(s, wordDict)\n",
    "print(res)\n"
   ]
  },
  {
   "cell_type": "markdown",
   "id": "dff42433",
   "metadata": {},
   "source": [
    "# 300 最长递增子序列\n",
    "给你一个整数数组 nums ，找到其中最长严格递增子序列的长度。  \n",
    "子序列 是由数组派生而来的序列，删除（或不删除）数组中的元素而不改变其余元素的顺序。例如，[3,6,2,7] 是数组 [0,3,1,6,2,2,7] 的子序列。\n",
    "\n",
    "示例 1：  \n",
    "输入：nums = [10,9,2,5,3,7,101,18]  \n",
    "输出：4  \n",
    "解释：最长递增子序列是 [2,3,7,101]，因此长度为 4 。  "
   ]
  },
  {
   "cell_type": "code",
   "execution_count": 5,
   "id": "5af33083",
   "metadata": {},
   "outputs": [
    {
     "name": "stdout",
     "output_type": "stream",
     "text": [
      "4\n"
     ]
    }
   ],
   "source": [
    "class Solution:\n",
    "    def lengthOfLIS(self, nums: List[int]) -> int:\n",
    "        # 子问题dp[k]: nums中前k个数字的最长递增子序列\n",
    "        # 初始状态: dp[k] = 1, 至少每个元素可以单独成为子序列\n",
    "        # 转移方程: \n",
    "        # 遍历 i in range(len(nums)):\n",
    "        # 遍历 j in range(i):\n",
    "        # if nums[j] < nums[i]:\n",
    "        # dp[k] = max(dp[i], dp[j]+1)\n",
    "        dp = [1] * len(nums)\n",
    "        for i in range(len(nums)):\n",
    "            for j in range(i):\n",
    "                if nums[j] < nums[i]:\n",
    "                    dp[i] = max(dp[i], dp[j]+1)\n",
    "        return max(dp)\n",
    "\n",
    "nums = [10,9,2,5,3,7,101,18]\n",
    "sol = Solution()\n",
    "print(sol.lengthOfLIS(nums))"
   ]
  },
  {
   "cell_type": "markdown",
   "id": "2687e97f",
   "metadata": {},
   "source": [
    "# 152 乘积最大子数组\n",
    "给你一个整数数组 nums ，请你找出数组中乘积最大的非空连续 子数组（该子数组中至少包含一个数字），并返回该子数组所对应的乘积。  \n",
    "测试用例的答案是一个 32-位 整数。  \n",
    "\n",
    "示例 1:  \n",
    "输入: nums = [2,3,-2,4]  \n",
    "输出: 6  \n",
    "解释: 子数组 [2,3] 有最大乘积 6。  "
   ]
  },
  {
   "cell_type": "code",
   "execution_count": null,
   "id": "614e6b45",
   "metadata": {},
   "outputs": [
    {
     "name": "stdout",
     "output_type": "stream",
     "text": [
      "12\n"
     ]
    }
   ],
   "source": [
    "class Solution:\n",
    "    def maxProduct(self, nums: List[int]) -> int:\n",
    "        # 遍历整个数组\n",
    "        # 考虑到正负号, 维护两个值, 一个记录前k个数组子数组的最大值, 一个记录最小值\n",
    "        # dp_max, dp_min, x = nums[k]\n",
    "        # dp_max[k] = max(dp_max[k-1]*x, dp_min[k-1]*x, x)\n",
    "        # dp_min[k] = min(dp_max[k-1]*x, dp_min[k-1]*x, x)\n",
    "        dp_max = [0]*len(nums)\n",
    "        dp_min = [0]*len(nums)\n",
    "        dp_max[0] = dp_min[0] = nums[0]\n",
    "        for i in range(1, len(nums)):\n",
    "            x = nums[i]\n",
    "            dp_max[i] = max(dp_max[i-1]*x, dp_min[i-1]*x, x)\n",
    "            dp_min[i] = min(dp_max[i-1]*x, dp_min[i-1]*x, x)\n",
    "        return max(dp_max)\n",
    "      \n",
    "nums = [-4,-3]\n",
    "sol = Solution()\n",
    "print(sol.maxProduct(nums))"
   ]
  },
  {
   "cell_type": "markdown",
   "id": "8373ec0f",
   "metadata": {},
   "source": [
    "# 413 分割等和子集\n",
    "给你一个 只包含正整数 的 非空 数组 nums 。请你判断是否可以将这个数组分割成两个子集，使得两个子集的元素和相等。\n",
    "\n",
    "示例 1：  \n",
    "输入：nums = [1,5,11,5]  \n",
    "输出：true  \n",
    "解释：数组可以分割成 [1, 5, 5] 和 [11] 。  "
   ]
  },
  {
   "cell_type": "code",
   "execution_count": 4,
   "id": "0194e3e3",
   "metadata": {},
   "outputs": [
    {
     "name": "stdout",
     "output_type": "stream",
     "text": [
      "True\n"
     ]
    }
   ],
   "source": [
    "class Solution:\n",
    "    def canPartition(self, nums: List[int]) -> bool:\n",
    "        # 只有数组nums的和为偶数时, 才有可能分割\n",
    "        if sum(nums)%2 != 0:\n",
    "            return False\n",
    "        # 当数组nums可以分割为两个和相等的子集时，两个子集的和都为sum(nums)/2\n",
    "        # 问题转换为: 能否从nums中找到一个子集，和为sum(nums)/2\n",
    "        # 定义dfs(i, j)表示能否从nums[0]到nums[i]中选一个和为j的子序列\n",
    "        # 考虑nums[i]选或者不选:\n",
    "        # 选: 问题转换为能否从nums[0]到nums[i-1]中选一个和为j-nums[i]的子序列，即dfs[i-1,j-nums[i]]\n",
    "        # 不选: 问题转换为能否从nums[0]到nums[i-1]选一个和为j的子序列，即dfs(i-1, j)\n",
    "        # 只要二者有一个成立，dfs(i,j)即为true\n",
    "        # dfs(i,j) = dfs(i-1, j) or dfs(i-1, j-nums[i])\n",
    "        # 递归边界: dfs(-1,0)=true, dfs(-1,>0)=false\n",
    "\n",
    "        def dfs(i, j):\n",
    "            if i<0:\n",
    "                return j==0\n",
    "            if j<nums[i]: # nums[i]比j还大，只能不选\n",
    "                return dfs(i-1,j) \n",
    "            return dfs(i-1, j-nums[i]) or dfs(i-1, j)\n",
    "        \n",
    "        return dfs(len(nums)-1, sum(nums)/2)\n",
    "\n",
    "nums = [1,5,11,5]\n",
    "sol = Solution()\n",
    "ans = sol.canPartition(nums)\n",
    "print(ans)"
   ]
  },
  {
   "cell_type": "markdown",
   "id": "f29a5608",
   "metadata": {},
   "source": [
    "# 148 排序链表\n",
    "给你链表的头结点 head ，请将其按 升序 排列并返回 排序后的链表 。\n",
    "示例1：  \n",
    "输入：head = [4,2,1,3]  \n",
    "输出：[1,2,3,4]  "
   ]
  },
  {
   "cell_type": "code",
   "execution_count": 8,
   "id": "91cc8c1d",
   "metadata": {},
   "outputs": [],
   "source": [
    "from typing import Optional\n",
    "# Definition for singly-linked list.\n",
    "class ListNode:\n",
    "   def __init__(self, val=0, next=None):\n",
    "       self.val = val\n",
    "       self.next = next\n",
    "\n",
    "class Solution:\n",
    "    def sortList(self, head: Optional[ListNode]) -> Optional[ListNode]:\n",
    "        # 暴力写法\n",
    "        # 把链表转换为列表, 使用sorted后再转换回链表\n",
    "        if not head:\n",
    "            return None  # 注意写 None，而不是空 return\n",
    "        \n",
    "        nums = []\n",
    "        while head:\n",
    "            nums.append(head.val)\n",
    "            head = head.next\n",
    "        nums = sorted(nums)\n",
    "\n",
    "        def list2listnode(nums):\n",
    "            dummy = ListNode(0)\n",
    "            current = dummy\n",
    "            for num in nums:\n",
    "                current.next = ListNode(num)\n",
    "                current = current.next\n",
    "            return dummy.next\n",
    "        \n",
    "        return list2listnode(nums)  \n"
   ]
  },
  {
   "cell_type": "code",
   "execution_count": null,
   "id": "a8e84ae7",
   "metadata": {},
   "outputs": [],
   "source": []
  }
 ],
 "metadata": {
  "kernelspec": {
   "display_name": "ml-env",
   "language": "python",
   "name": "python3"
  },
  "language_info": {
   "codemirror_mode": {
    "name": "ipython",
    "version": 3
   },
   "file_extension": ".py",
   "mimetype": "text/x-python",
   "name": "python",
   "nbconvert_exporter": "python",
   "pygments_lexer": "ipython3",
   "version": "3.12.9"
  }
 },
 "nbformat": 4,
 "nbformat_minor": 5
}
